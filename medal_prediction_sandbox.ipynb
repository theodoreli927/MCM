{
 "cells": [
  {
   "cell_type": "markdown",
   "metadata": {},
   "source": [
    "Ted Li 1/27/2025\n",
    "\n",
    "This is a python notebook used to solve Mathematical Contest in Modeling (MCM) 2025 Problem C"
   ]
  },
  {
   "cell_type": "markdown",
   "metadata": {},
   "source": [
    "First we need to analyze our data through a structured approach. We will explore the trends throughout the data. This will help us get to understand the underlying patterns within the dataset and whether we can make/not make certain assumptions therefore determining the model that we're allowed to use."
   ]
  },
  {
   "cell_type": "code",
   "execution_count": 18,
   "metadata": {},
   "outputs": [
    {
     "name": "stdout",
     "output_type": "stream",
     "text": [
      "   Rank            NOC  Gold  Silver  Bronze  Total  Year\n",
      "0     1  United States    11       7       2     20  1896\n",
      "1     2         Greece    10      18      19     47  1896\n",
      "2     3        Germany     6       5       2     13  1896\n",
      "3     4         France     5       4       2     11  1896\n",
      "4     5  Great Britain     2       3       2      7  1896\n",
      "   Year                       Host\n",
      "0  1896             Athens, Greece\n",
      "1  1900              Paris, France\n",
      "2  1904   St. Louis, United States\n",
      "3  1908     London, United Kingdom\n",
      "4  1912          Stockholm, Sweden\n",
      "      Sport         Discipline Code Sports Governing Body 1896 1900 1904  \\\n",
      "0  Aquatics  Artistic Swimming  SWA        World Aquatics    0    0    0   \n",
      "1  Aquatics             Diving  DIV        World Aquatics    0    0    2   \n",
      "2  Aquatics  Marathon Swimming  OWS        World Aquatics    0    0    0   \n",
      "3  Aquatics           Swimming  SWM        World Aquatics    4    7    9   \n",
      "4  Aquatics         Water Polo  WPO        World Aquatics    0    1    1   \n",
      "\n",
      "   1906*  1908 1912  ...  1988 1992  1996  2000  2004  2008  2012  2016  2020  \\\n",
      "0      0     0    0  ...     2    2   1.0   2.0   2.0   2.0   2.0   2.0   2.0   \n",
      "1      1     2    4  ...     4    4   4.0   8.0   8.0   8.0   8.0   8.0   8.0   \n",
      "2      0     0    0  ...     0    0   0.0   0.0   0.0   2.0   2.0   2.0   2.0   \n",
      "3      4     6    9  ...    31   31  32.0  32.0  32.0  32.0  32.0  32.0  35.0   \n",
      "4      0     1    1  ...     1    1   1.0   2.0   2.0   2.0   2.0   2.0   2.0   \n",
      "\n",
      "   2024  \n",
      "0   2.0  \n",
      "1   8.0  \n",
      "2   2.0  \n",
      "3  35.0  \n",
      "4   2.0  \n",
      "\n",
      "[5 rows x 35 columns]\n",
      "                    Name Sex            Team  NOC  Year         City  \\\n",
      "0              A Dijiang   M           China  CHN  1992    Barcelona   \n",
      "1               A Lamusi   M           China  CHN  2012       London   \n",
      "2            Gunnar Aaby   M         Denmark  DEN  1920    Antwerpen   \n",
      "3            Edgar Aabye   M  Denmark/Sweden  DEN  1900        Paris   \n",
      "4  Cornelia (-strannood)   F     Netherlands  NED  1932  Los Angeles   \n",
      "\n",
      "        Sport                         Event     Medal  \n",
      "0  Basketball   Basketball Men's Basketball  No medal  \n",
      "1        Judo  Judo Men's Extra-Lightweight  No medal  \n",
      "2    Football       Football Men's Football  No medal  \n",
      "3  Tug-Of-War   Tug-Of-War Men's Tug-Of-War      Gold  \n",
      "4   Athletics  Athletics Women's 100 metres  No medal  \n"
     ]
    }
   ],
   "source": [
    "import pandas as pd\n",
    "\n",
    "# Load the datasets\n",
    "medal_counts = pd.read_csv('2025_Problem_C_Data/summerOly_medal_counts.csv')\n",
    "hosts = pd.read_csv('2025_Problem_C_Data/summerOly_hosts.csv')\n",
    "programs = pd.read_csv('2025_Problem_C_Data/summerOly_programs.csv', encoding='latin1')\n",
    "athletes = pd.read_csv('2025_Problem_C_Data/summerOly_athletes.csv')\n",
    "\n",
    "# Preview the data\n",
    "print(medal_counts.head())\n",
    "print(hosts.head())\n",
    "print(programs.head())\n",
    "print(athletes.head())\n"
   ]
  },
  {
   "cell_type": "code",
   "execution_count": 19,
   "metadata": {},
   "outputs": [
    {
     "name": "stdout",
     "output_type": "stream",
     "text": [
      "['Basketball' 'Judo' 'Football' 'Tug-Of-War' 'Athletics' 'Swimming'\n",
      " 'Badminton' 'Sailing' 'Gymnastics' 'Art Competitions' 'Handball'\n",
      " 'Weightlifting' 'Wrestling' 'Water Polo' 'Hockey' 'Rowing' 'Fencing'\n",
      " 'Equestrianism' 'Shooting' 'Boxing' 'Taekwondo' 'Cycling' 'Diving'\n",
      " 'Canoeing' 'Tennis' 'Modern Pentathlon' 'Golf' 'Softball' 'Archery'\n",
      " 'Volleyball' 'Synchronized Swimming' 'Table Tennis' 'Baseball'\n",
      " 'Rhythmic Gymnastics' 'Rugby Sevens' 'Trampolining' 'Beach Volleyball'\n",
      " 'Triathlon' 'Rugby' 'Lacrosse' 'Polo' 'Cricket' 'Ice Hockey' 'Racquets'\n",
      " 'Motorboating' 'Croquet' 'Figure Skating' 'Jeu De Paume' 'Roque'\n",
      " 'Basque Pelota' 'Alpinism' 'Aeronautics' 'Cycling Road'\n",
      " 'Artistic Gymnastics' 'Karate' 'Baseball/Softball'\n",
      " 'Trampoline Gymnastics' 'Marathon Swimming' 'Canoe Slalom' 'Surfing'\n",
      " 'Canoe Sprint' 'Cycling BMX Racing' 'Equestrian' 'Artistic Swimming'\n",
      " 'Cycling Track' 'Skateboarding' 'Cycling Mountain Bike' '3x3 Basketball'\n",
      " 'Cycling BMX Freestyle' 'Sport Climbing' 'Marathon Swimming, Swimming'\n",
      " 'Breaking' 'Cycling Road, Cycling Track'\n",
      " 'Cycling Road, Cycling Mountain Bike' 'Cycling Road, Triathlon'\n",
      " '3x3 Basketball, Basketball']\n",
      "76\n"
     ]
    }
   ],
   "source": [
    "#Breakup the sports into individual vs team\n",
    "unique_values = athletes['Sport'].unique()\n",
    "\n",
    "print(unique_values)\n",
    "print(len(unique_values))"
   ]
  },
  {
   "cell_type": "markdown",
   "metadata": {},
   "source": [
    "The first questions we should begin asking is:\n",
    "\n",
    "Are there missing values or inconsistencies in the data?\n",
    "\n",
    "How are the variables distributed?\n",
    "\n",
    "What is the range of years covered in each dataset?"
   ]
  },
  {
   "cell_type": "code",
   "execution_count": 20,
   "metadata": {},
   "outputs": [
    {
     "name": "stdout",
     "output_type": "stream",
     "text": [
      "Checking missing entries in medal_counts:\n",
      "Missing entries in each column:\n",
      " Rank      0\n",
      "NOC       0\n",
      "Gold      0\n",
      "Silver    0\n",
      "Bronze    0\n",
      "Total     0\n",
      "Year      0\n",
      "dtype: int64\n",
      "No missing entries found in medal_counts.\n",
      "\n",
      "Checking missing entries in hosts:\n",
      "Missing entries in each column:\n",
      " Year    0\n",
      "Host    0\n",
      "dtype: int64\n",
      "No missing entries found in hosts.\n",
      "\n",
      "Checking missing entries in programs:\n",
      "Missing entries in each column:\n",
      " Sport                    0\n",
      "Discipline               2\n",
      "Code                     0\n",
      "Sports Governing Body    0\n",
      "1896                     0\n",
      "1900                     0\n",
      "1904                     0\n",
      "1906*                    0\n",
      "1908                     0\n",
      "1912                     0\n",
      "1920                     0\n",
      "1924                     0\n",
      "1928                     2\n",
      "1932                     2\n",
      "1936                     2\n",
      "1948                     2\n",
      "1952                     2\n",
      "1956                     2\n",
      "1960                     2\n",
      "1964                     2\n",
      "1968                     2\n",
      "1972                     2\n",
      "1976                     2\n",
      "1980                     2\n",
      "1984                     2\n",
      "1988                     3\n",
      "1992                     2\n",
      "1996                     2\n",
      "2000                     2\n",
      "2004                     2\n",
      "2008                     2\n",
      "2012                     2\n",
      "2016                     2\n",
      "2020                     2\n",
      "2024                     2\n",
      "dtype: int64\n",
      "There are missing entries in programs.\n",
      "\n",
      "Checking missing entries in athletes:\n",
      "Missing entries in each column:\n",
      " Name     0\n",
      "Sex      0\n",
      "Team     0\n",
      "NOC      0\n",
      "Year     0\n",
      "City     0\n",
      "Sport    0\n",
      "Event    0\n",
      "Medal    0\n",
      "dtype: int64\n",
      "No missing entries found in athletes.\n",
      "\n"
     ]
    }
   ],
   "source": [
    "#Check for missing values\n",
    "datasets = {\n",
    "    'medal_counts': medal_counts,\n",
    "    'hosts': hosts,\n",
    "    'programs': programs,\n",
    "    'athletes': athletes\n",
    "}\n",
    "\n",
    "# Check for missing entries in each dataset\n",
    "for name, df in datasets.items():\n",
    "    print(f\"Checking missing entries in {name}:\")\n",
    "    missing_values = df.isnull()\n",
    "    print(\"Missing entries in each column:\\n\", missing_values.sum())\n",
    "    \n",
    "    if missing_values.any().any():\n",
    "        print(f\"There are missing entries in {name}.\")\n",
    "    else:\n",
    "        print(f\"No missing entries found in {name}.\")\n",
    "    print()  # Add a newline for better readability"
   ]
  },
  {
   "cell_type": "code",
   "execution_count": 21,
   "metadata": {},
   "outputs": [
    {
     "name": "stdout",
     "output_type": "stream",
     "text": [
      "Correlation Matrix:\n",
      "            Gold    Silver    Bronze\n",
      "Gold    1.000000  0.921144  0.881062\n",
      "Silver  0.921144  1.000000  0.906400\n",
      "Bronze  0.881062  0.906400  1.000000\n"
     ]
    }
   ],
   "source": [
    "# If a country wins a medal, \n",
    "# how will this impact the chances of winning other medals?\n",
    "\n",
    "import numpy as np\n",
    "\n",
    "# Select the columns representing Gold, Silver, and Bronze medals\n",
    "gold = medal_counts['Gold']\n",
    "silver = medal_counts['Silver']\n",
    "bronze = medal_counts['Bronze']\n",
    "\n",
    "# Calculate the correlation matrix using Pearson's Correlation Coefficient\n",
    "correlation_matrix = np.corrcoef([gold, silver, bronze])\n",
    "\n",
    "corr_df = pd.DataFrame(correlation_matrix, columns=['Gold', 'Silver', 'Bronze'], index=['Gold', 'Silver', 'Bronze'])\n",
    "\n",
    "print(\"Correlation Matrix:\")\n",
    "print(corr_df)\n"
   ]
  },
  {
   "cell_type": "markdown",
   "metadata": {},
   "source": [
    "Interpreting the correlation matrix, we can see that all 3 medal types are positively correlated. For example if a country wins a Gold medal it is roughly 92% of also winning a silver medal. \n",
    "If we wanted to we can further aggregate this into seeing the correlation among distinct countries. For example if Denmark wins gold what is the probability of also winning silver or bronze. However, due to the number of countries participating, this averaged correlation matrix will give us the info we need.\n",
    "\n",
    "This was done using the pearson coefficient."
   ]
  },
  {
   "cell_type": "markdown",
   "metadata": {},
   "source": [
    "Data Manipulation using SQL: We will begin organizing our data. First we will add a column to note if the country was where the Olympics were hosted that year."
   ]
  },
  {
   "cell_type": "code",
   "execution_count": 22,
   "metadata": {},
   "outputs": [],
   "source": [
    "import sqlite3\n",
    "\n",
    "# Convert your datasets to DataFrames\n",
    "df_medal = pd.DataFrame(medal_counts)  \n",
    "df_hosts = pd.DataFrame(hosts) \n",
    "\n",
    "# Initialize a database file and connect with sqlite3\n",
    "db_file = \"olympic_data.db\"\n",
    "conn = sqlite3.connect(db_file)\n",
    "\n",
    "# Write our dataframes to database\n",
    "df_medal.to_sql(name='medal_counts', con=conn, if_exists='replace', index=False)\n",
    "df_hosts.to_sql(name='hosts', con=conn, if_exists='replace', index=False)\n",
    "\n",
    "cursor = conn.cursor()\n",
    "\n",
    "# Add a column to indicate if the country was the host\n",
    "try:\n",
    "    add_column_query = \"ALTER TABLE medal_counts ADD COLUMN Is_Host_Country INTEGER DEFAULT 0;\"\n",
    "    cursor.execute(add_column_query)\n",
    "    conn.commit()\n",
    "except sqlite3.OperationalError:\n",
    "    # Ignore if the column already exists\n",
    "    print(\"Column 'Is_Host_Country' already exists.\")\n",
    "\n",
    "#Query to update the Is_Host_Country column\n",
    "update_query = \"\"\"\n",
    "UPDATE medal_counts\n",
    "SET Is_Host_Country = 1\n",
    "WHERE EXISTS (\n",
    "    SELECT 1\n",
    "    FROM hosts\n",
    "    WHERE hosts.Year = medal_counts.Year\n",
    "    AND TRIM(SUBSTR(hosts.Host, INSTR(hosts.Host, ',') + 2)) = medal_counts.NOC\n",
    ");\n",
    "\"\"\"\n",
    "\n",
    "cursor.execute(update_query)\n",
    "conn.commit()\n",
    "\n",
    "# Close the connection\n",
    "cursor.close()\n",
    "conn.close()\n"
   ]
  },
  {
   "cell_type": "markdown",
   "metadata": {},
   "source": [
    "Let's confirm our query worked by printing out the countries that hosted the olympics over the course of 1896 - 2024."
   ]
  },
  {
   "cell_type": "code",
   "execution_count": 23,
   "metadata": {},
   "outputs": [
    {
     "name": "stdout",
     "output_type": "stream",
     "text": [
      "    Year            NOC  Total  Is_Host_Country\n",
      "0   1896         Greece     47                1\n",
      "1   1900         France    103                1\n",
      "2   1904  United States    231                1\n",
      "3   1912         Sweden     65                1\n",
      "4   1920        Belgium     36                1\n",
      "5   1924         France     38                1\n",
      "6   1928    Netherlands     19                1\n",
      "7   1936        Germany    101                1\n",
      "8   1952        Finland     22                1\n",
      "9   1956      Australia     35                1\n",
      "10  1964          Japan     29                1\n",
      "11  1968         Mexico      9                1\n",
      "12  1972   West Germany     40                1\n",
      "13  1976         Canada     11                1\n",
      "14  1980   Soviet Union    195                1\n",
      "15  1984  United States    174                1\n",
      "16  1988    South Korea     33                1\n",
      "17  1992          Spain     22                1\n",
      "18  1996  United States    101                1\n",
      "19  2000      Australia     58                1\n",
      "20  2004         Greece     16                1\n",
      "21  2008          China    100                1\n",
      "22  2016         Brazil     19                1\n",
      "23  2024         France     64                1\n"
     ]
    }
   ],
   "source": [
    "# Connect to the database\n",
    "db_file = \"olympic_data.db\"\n",
    "conn = sqlite3.connect(db_file)\n",
    "\n",
    "# Query to check the updated Is_Host_Country column\n",
    "query = \"\"\"\n",
    "SELECT Year, NOC, Total, Is_Host_Country\n",
    "FROM medal_counts\n",
    "WHERE Is_Host_Country = 1\n",
    "ORDER BY Year, NOC;\n",
    "\"\"\"\n",
    "\n",
    "# Load the results into a Pandas DataFrame\n",
    "df_check = pd.read_sql_query(query, conn)\n",
    "\n",
    "# Close the connection\n",
    "conn.close()\n",
    "\n",
    "# Display the results\n",
    "print(df_check)\n"
   ]
  },
  {
   "cell_type": "markdown",
   "metadata": {},
   "source": [
    "Now that we've created this new column of Is_Host_Country let's see if it has a correlation in the number of medals a country wins"
   ]
  },
  {
   "cell_type": "code",
   "execution_count": 24,
   "metadata": {},
   "outputs": [
    {
     "name": "stdout",
     "output_type": "stream",
     "text": [
      "   Rank            NOC  Gold  Silver  Bronze  Total  Year  Is_Host_Country\n",
      "0     1  United States    11       7       2     20  1896                0\n",
      "1     2         Greece    10      18      19     47  1896                1\n",
      "2     3        Germany     6       5       2     13  1896                0\n",
      "3     4         France     5       4       2     11  1896                0\n",
      "4     5  Great Britain     2       3       2      7  1896                0\n"
     ]
    }
   ],
   "source": [
    "conn = sqlite3.connect(db_file)\n",
    "\n",
    "# Query to get the updated data from the database\n",
    "query = \"\"\"\n",
    "SELECT *\n",
    "FROM medal_counts\n",
    "\"\"\"\n",
    "\n",
    "# Load the results into a Pandas DataFrame\n",
    "medal_counts = pd.read_sql_query(query, conn)\n",
    "conn.close()\n",
    "print(medal_counts.head())\n"
   ]
  },
  {
   "cell_type": "code",
   "execution_count": 25,
   "metadata": {},
   "outputs": [
    {
     "name": "stdout",
     "output_type": "stream",
     "text": [
      "Correlation between being a host country and total medals: 0.31962361177340465\n"
     ]
    }
   ],
   "source": [
    "correlation = medal_counts['Total'].corr(medal_counts['Is_Host_Country'])\n",
    "print(f\"Correlation between being a host country and total medals: {correlation}\")"
   ]
  },
  {
   "cell_type": "markdown",
   "metadata": {},
   "source": [
    "While not drastic, we can see a positive correlation between a host country and the number of medals they win that year. \n",
    "Modeling considerations: The weak correlation means Is_Host_Country has a small impact on the medals won."
   ]
  },
  {
   "cell_type": "markdown",
   "metadata": {},
   "source": [
    "Next, we will combine the athletes and medal_counts tables. We will join these tables on both the Year and Team columns, where the Team represents the country the athlete competed for and matches the country in the medal_counts table, and the Year corresponds to the Olympic Games year in which the athlete participated, which is also the same year in which the country’s medal count is recorded."
   ]
  },
  {
   "cell_type": "code",
   "execution_count": 26,
   "metadata": {},
   "outputs": [
    {
     "name": "stdout",
     "output_type": "stream",
     "text": [
      "          Name Sex     Team  NOC  Year       City       Sport  \\\n",
      "0    A Dijiang   M    China  CHN  1992  Barcelona  Basketball   \n",
      "1     A Lamusi   M    China  CHN  2012     London        Judo   \n",
      "2  Gunnar Aaby   M  Denmark  DEN  1920  Antwerpen    Football   \n",
      "3  Einar Aalto   M  Finland  FIN  1952   Helsinki    Swimming   \n",
      "4   Jyri Aalto   M  Finland  FIN  2000     Sydney   Badminton   \n",
      "\n",
      "                                 Event     Medal  Rank      NOC  Gold  Silver  \\\n",
      "0          Basketball Men's Basketball  No medal     4    China    16      22   \n",
      "1         Judo Men's Extra-Lightweight  No medal     2    China    39      31   \n",
      "2              Football Men's Football  No medal    10  Denmark     3       9   \n",
      "3  Swimming Men's 400 metres Freestyle  No medal     8  Finland     6       3   \n",
      "4              Badminton Men's Singles  No medal    31  Finland     2       1   \n",
      "\n",
      "   Bronze  Total  Year  Is_Host_Country  \n",
      "0      16     54  1992                0  \n",
      "1      22     92  2012                0  \n",
      "2       1     13  1920                0  \n",
      "3      13     22  1952                1  \n",
      "4       1      4  2000                0  \n",
      "Column names: ['Name', 'Sex', 'Team', 'NOC', 'Year', 'City', 'Sport', 'Event', 'Medal', 'Rank', 'NOC', 'Gold', 'Silver', 'Bronze', 'Total', 'Year', 'Is_Host_Country']\n"
     ]
    }
   ],
   "source": [
    "df_athletes = pd.DataFrame(athletes)\n",
    "\n",
    "conn = sqlite3.connect(db_file)\n",
    "\n",
    "df_athletes.to_sql(name='athletes', con=conn, if_exists='replace', index=False)\n",
    "\n",
    "\n",
    "join_query = \"\"\"\n",
    "SELECT * FROM athletes\n",
    "JOIN medal_counts ON athletes.Year = medal_counts.Year \n",
    "AND athletes.Team = medal_counts.NOC\n",
    "\"\"\"\n",
    "\n",
    "# Execute the query and load the result into a pandas DataFrame\n",
    "df_joined = pd.read_sql_query(join_query, conn)\n",
    "\n",
    "# Close the connection\n",
    "conn.close()\n",
    "\n",
    "\n",
    "rows_with_usa = df_joined[df_joined.iloc[:, 3] == \"USA\"]\n",
    "\n",
    "print(df_joined.head())\n",
    "print(\"Column names:\", df_joined.columns.tolist())\n"
   ]
  },
  {
   "cell_type": "markdown",
   "metadata": {},
   "source": [
    "Next we need to encode the columns containing strings"
   ]
  },
  {
   "cell_type": "code",
   "execution_count": 27,
   "metadata": {},
   "outputs": [],
   "source": [
    "from sklearn.preprocessing import LabelEncoder\n",
    "\n",
    "def label_encoder(column):\n",
    "    le = LabelEncoder().fit(column)\n",
    "    return le\n",
    "\n"
   ]
  },
  {
   "cell_type": "code",
   "execution_count": 28,
   "metadata": {},
   "outputs": [],
   "source": [
    "cols = [\"Name\", \"Sex\", \"Team\", \"City\", \"Sport\", \"Event\"]\n",
    "col_idx = [0, 1, 3, 4, 5, 7]\n",
    "encoders = {}\n",
    "\n",
    "# Encode all columns and store their encoders\n",
    "for col in cols: \n",
    "    encoder = label_encoder(df_joined[col])\n",
    "    df_joined[col] = encoder.transform(df_joined[col])  # Transform the column\n",
    "    encoders[col] = encoder  \n",
    "#team_encoded_value = encoded_columns['Team'][df_joined['Team'] == 'United States'][0]\n",
    "\n",
    "year_col = df_joined['Year'].iloc[:,[0]]\n",
    "df_joined = df_joined.drop(['Year', 'NOC'], axis=1  )\n",
    "df_joined[\"Year\"] = year_col\n"
   ]
  },
  {
   "cell_type": "code",
   "execution_count": 29,
   "metadata": {},
   "outputs": [
    {
     "name": "stdout",
     "output_type": "stream",
     "text": [
      "    Name  Sex  Team  City  Sport  Event     Medal  Rank  Gold  Silver  Bronze  \\\n",
      "0      4    1    25     4     12    156  No medal     4    16      22      16   \n",
      "1      5    1    25     8     42    341  No medal     2    39      31      22   \n",
      "2  35269    1    34     1     35    303  No medal    10     3       9       1   \n",
      "3  24527    1    45     7     61    704  No medal     8     6       3      13   \n",
      "4  52108    1    45    20      9    150  No medal    31     2       1       1   \n",
      "\n",
      "   Total  Is_Host_Country  Year  \n",
      "0     54                0  1992  \n",
      "1     92                0  2012  \n",
      "2     13                0  1920  \n",
      "3     22                1  1952  \n",
      "4      4                0  2000  \n"
     ]
    }
   ],
   "source": [
    "print(df_joined.head())"
   ]
  },
  {
   "cell_type": "code",
   "execution_count": 30,
   "metadata": {},
   "outputs": [
    {
     "name": "stdout",
     "output_type": "stream",
     "text": [
      "       Year  Team  Event  Medal_Earned\n",
      "0      2024    46    364            67\n",
      "1      2020   141    805            65\n",
      "2      2024   141    793            62\n",
      "3      2020    46    805            41\n",
      "4      2020    46    376            40\n",
      "...     ...   ...    ...           ...\n",
      "88189  1896     7    682             0\n",
      "88190  1896     7    285             0\n",
      "88191  1896     7    211             0\n",
      "88192  1896     6    753             0\n",
      "88193  1896     6    111             0\n",
      "\n",
      "[88194 rows x 4 columns]\n"
     ]
    }
   ],
   "source": [
    "# Step 1: Check if a contestant earned a medal\n",
    "# Create a binary column indicating whether a medal was earned (1 for medal, 0 for \"No medal\")\n",
    "df_joined['Medal_Earned'] = df_joined['Medal'].apply(lambda x: 1 if x != \"No medal\" else 0)\n",
    "\n",
    "# Step 2: Group by Year, Team, and Event, and calculate the total medals for each group\n",
    "event_medals = df_joined.groupby(['Year', 'Team', 'Event'])['Medal_Earned'].sum().reset_index()\n",
    "event_medals_sorted = event_medals.sort_values(by='Medal_Earned', ascending=False).reset_index(drop=True)\n",
    "\n",
    "# Display the updated dataframe\n",
    "print(event_medals_sorted)"
   ]
  },
  {
   "cell_type": "code",
   "execution_count": 31,
   "metadata": {},
   "outputs": [
    {
     "name": "stdout",
     "output_type": "stream",
     "text": [
      "    Name  Sex  Team  City  Sport  Event  Medal  Rank  Gold  Silver  Bronze  \\\n",
      "0      4    1    25     4     12    156      0     4    16      22      16   \n",
      "1      5    1    25     8     42    341      0     2    39      31      22   \n",
      "2  35269    1    34     1     35    303      0    10     3       9       1   \n",
      "3  24527    1    45     7     61    704      0     8     6       3      13   \n",
      "4  52108    1    45    20      9    150      0    31     2       1       1   \n",
      "\n",
      "   Total  Is_Host_Country  Year  Medal_Earned  \n",
      "0     54                0  1992             0  \n",
      "1     92                0  2012             0  \n",
      "2     13                0  1920             0  \n",
      "3     22                1  1952             0  \n",
      "4      4                0  2000             0  \n"
     ]
    }
   ],
   "source": [
    "#First we'll make all medals be weighted the same. \n",
    "#We'll later change this to rank medals with varried weights\n",
    "df_joined[\"Medal\"] = df_joined[\"Medal\"].map({\n",
    "    \"No medal\": 0,\n",
    "    \"Gold\": 1,\n",
    "    \"Bronze\": 1,\n",
    "    \"Silver\": 1\n",
    "})\n",
    "\n",
    "\n",
    "\n",
    "print(df_joined.head())"
   ]
  },
  {
   "cell_type": "markdown",
   "metadata": {},
   "source": [
    "Now our data has been cleaned and preprocessed, we can use it in a model to make predictions. We'll go through several models from tree based to multivariate models in order to gauge the which one gives the best performance."
   ]
  },
  {
   "cell_type": "code",
   "execution_count": 32,
   "metadata": {},
   "outputs": [],
   "source": [
    "X = df_joined.drop(['Name','Medal', 'Rank', 'Gold', 'Silver', 'Bronze', 'Total', 'Medal_Earned'], axis=1)\n",
    "y = df_joined['Total']"
   ]
  },
  {
   "cell_type": "code",
   "execution_count": 33,
   "metadata": {},
   "outputs": [
    {
     "name": "stdout",
     "output_type": "stream",
     "text": [
      "   Sex  Team  City  Sport  Event  Is_Host_Country  Year\n",
      "0    1    25     4     12    156                0  1992\n",
      "1    1    25     8     42    341                0  2012\n",
      "2    1    34     1     35    303                0  1920\n",
      "3    1    45     7     61    704                1  1952\n",
      "4    1    45    20      9    150                0  2000\n"
     ]
    }
   ],
   "source": [
    "print(X.head())"
   ]
  },
  {
   "cell_type": "code",
   "execution_count": 34,
   "metadata": {},
   "outputs": [
    {
     "data": {
      "image/png": "[encoded data removed]",
      "text/plain": [
       "<Figure size 1000x800 with 2 Axes>"
      ]
     },
     "metadata": {},
     "output_type": "display_data"
    }
   ],
   "source": [
    "import matplotlib.pyplot as plt\n",
    "import seaborn as sns\n",
    "\n",
    "corr_df = X\n",
    "corr_df['Total'] = y\n",
    "correlation_matrix = corr_df.corr()\n",
    "plt.figure(figsize=(10, 8))\n",
    "sns.heatmap(correlation_matrix, annot=True, cmap='coolwarm', fmt=\".2f\")\n",
    "plt.title(\"Correlation Matrix\")\n",
    "plt.show()"
   ]
  },
  {
   "cell_type": "markdown",
   "metadata": {},
   "source": [
    "The correlation between Is_Host_Country and Team are the highest with our target \"Total\" but are still rather weak in terms of a linear relationship. Thus we will attempt with Random Forest model due to their handling of non-linear data"
   ]
  },
  {
   "cell_type": "code",
   "execution_count": 35,
   "metadata": {},
   "outputs": [
    {
     "name": "stdout",
     "output_type": "stream",
     "text": [
      "   Team  Event  Sport  Year  Sex  Is_Host_Country  Gold  Silver  Bronze  \\\n",
      "0     0     74      8  2008    1                0     0       0       0   \n",
      "1     0     74      8  2012    1                0     0       0       0   \n",
      "2     0    123      8  2008    0                0     0       0       0   \n",
      "3     0    123      8  2012    0                0     0       0       0   \n",
      "4     0    163     15  2012    1                0     0       0       0   \n",
      "\n",
      "   Total  Event_Participants  Total_2024  \n",
      "0      0                 547           0  \n",
      "1      0                 547           0  \n",
      "2      0                 388           0  \n",
      "3      0                 388           0  \n",
      "4      0                 415           0  \n"
     ]
    }
   ],
   "source": [
    "# Group by 'Team', 'Event', and 'Year' and count the number of medals (Gold, Silver, Bronze)\n",
    "df_aggregated = df_joined.groupby(['Team', 'Event', 'Sport', 'Year', 'Sex', 'Is_Host_Country']).agg(\n",
    "    Gold=('Medal', lambda x: (x == 'Gold').sum()),\n",
    "    Silver=('Medal', lambda x: (x == 'Silver').sum()),\n",
    "    Bronze=('Medal', lambda x: (x == 'Bronze').sum())\n",
    ").reset_index()\n",
    "\n",
    "# Now, aggregate by 'Team', 'Event', and 'Year' to get the total number of medals for each year\n",
    "df_aggregated['Total'] = df_aggregated['Gold'] + df_aggregated['Silver'] + df_aggregated['Bronze']\n",
    "\n",
    "# Add event-specific features (you may calculate the number of participants if needed)\n",
    "df_aggregated['Event_Participants'] = df_aggregated.groupby('Event')['Event'].transform('count')\n",
    "\n",
    "# For each year, calculate the 'Total' for that year\n",
    "df_aggregated['Total_2024'] = df_aggregated.groupby('Team')['Total'].transform('sum')\n",
    "\n",
    "# Now the dataframe has the correct medal count for each country, event, and year\n",
    "print(df_aggregated.head())"
   ]
  },
  {
   "cell_type": "code",
   "execution_count": 36,
   "metadata": {},
   "outputs": [],
   "source": [
    "df_aggregated = df_aggregated.drop(['Gold', 'Silver', 'Bronze', 'Total_2024'], axis=1)\n"
   ]
  },
  {
   "cell_type": "code",
   "execution_count": 37,
   "metadata": {},
   "outputs": [
    {
     "ename": "NameError",
     "evalue": "name 'train_test_split' is not defined",
     "output_type": "error",
     "traceback": [
      "\u001b[1;31m---------------------------------------------------------------------------\u001b[0m",
      "\u001b[1;31mNameError\u001b[0m                                 Traceback (most recent call last)",
      "Cell \u001b[1;32mIn[37], line 3\u001b[0m\n\u001b[0;32m      1\u001b[0m X\u001b[38;5;241m=\u001b[39m df_aggregated\u001b[38;5;241m.\u001b[39mdrop([\u001b[38;5;124m\"\u001b[39m\u001b[38;5;124mTotal\u001b[39m\u001b[38;5;124m\"\u001b[39m], axis\u001b[38;5;241m=\u001b[39m\u001b[38;5;241m1\u001b[39m)\n\u001b[0;32m      2\u001b[0m y \u001b[38;5;241m=\u001b[39m df_aggregated[\u001b[38;5;124m\"\u001b[39m\u001b[38;5;124mTotal\u001b[39m\u001b[38;5;124m\"\u001b[39m]\n\u001b[1;32m----> 3\u001b[0m X_train, X_test, y_train, y_test \u001b[38;5;241m=\u001b[39m \u001b[43mtrain_test_split\u001b[49m(X, y, test_size\u001b[38;5;241m=\u001b[39m\u001b[38;5;241m0.3\u001b[39m)\n\u001b[0;32m      4\u001b[0m sc \u001b[38;5;241m=\u001b[39m MinMaxScaler()\n\u001b[0;32m      5\u001b[0m X_train_scaled \u001b[38;5;241m=\u001b[39m sc\u001b[38;5;241m.\u001b[39mfit_transform(X_train)\n",
      "\u001b[1;31mNameError\u001b[0m: name 'train_test_split' is not defined"
     ]
    }
   ],
   "source": [
    "\n",
    "# X= df_aggregated.drop([\"Total\"], axis=1)\n",
    "# y = df_aggregated[\"Total\"]\n",
    "# X_train, X_test, y_train, y_test = train_test_split(X, y, test_size=0.3)\n",
    "# sc = MinMaxScaler()\n",
    "# X_train_scaled = sc.fit_transform(X_train)\n",
    "# X_test_scaled = sc.transform(X_test)\n",
    "\n",
    "# rf = RandomForestRegressor()\n",
    "# rf.fit(X_train_scaled, y_train)\n"
   ]
  },
  {
   "cell_type": "markdown",
   "metadata": {},
   "source": [
    "We reach a important crossroad on choosing our data split. Should it be time-based split or random split? \n",
    "\n",
    "As we have seen the number of medals given each year has been increasing thus the changing distribution of the countries rank as there are more medals to be given due to a larger sample size.\n",
    "\n",
    "However, if we were to use a random split then the model might pickup on trends throughout the timeline that wouldn't be accessible when we implement this model. For example trying to predict 2040 olympic's outcome, we won't have access to the previous years.\n",
    "\n",
    "Thus since both have advantages and disadvantages we will implement both"
   ]
  },
  {
   "cell_type": "code",
   "execution_count": 38,
   "metadata": {},
   "outputs": [],
   "source": [
    "from sklearn.model_selection import train_test_split\n",
    "\n",
    "X = df_joined.drop(['Name', 'Medal', 'Rank', 'Gold', 'Silver', 'Bronze', 'Total', 'Medal_Earned'], axis=1)\n",
    "y = df_joined['Total']\n",
    "X_train, X_test, y_train, y_test = train_test_split(X, y, test_size=0.3)"
   ]
  },
  {
   "cell_type": "code",
   "execution_count": 39,
   "metadata": {},
   "outputs": [],
   "source": [
    "from sklearn.preprocessing import MinMaxScaler\n",
    "\n",
    "sc = MinMaxScaler()\n",
    "X_train_scaled = sc.fit_transform(X_train)\n",
    "X_test_scaled = sc.transform(X_test)"
   ]
  },
  {
   "cell_type": "code",
   "execution_count": 40,
   "metadata": {},
   "outputs": [
    {
     "name": "stdout",
     "output_type": "stream",
     "text": [
      "        Sex  Team  City  Sport  Event  Is_Host_Country  Year\n",
      "74454     1    23    16      8     75                0  2016\n",
      "6520      0    18     2     72    790                0  2004\n",
      "15320     1    49     2     37    318                0  1896\n",
      "44411     0    65     3     62    735                0  1996\n",
      "24886     0    27    20     61    721                0  2000\n",
      "...     ...   ...   ...    ...    ...              ...   ...\n",
      "75354     0    89     5     21    246                0  2008\n",
      "128289    1   107    20     61    708                0  2000\n",
      "176779    1   144     9      8     97                0  1984\n",
      "158187    1    58     7     73    969                0  1952\n",
      "204231    0   100    15     61    824                0  2024\n",
      "\n",
      "[145898 rows x 7 columns]\n"
     ]
    }
   ],
   "source": [
    "print(X_train)"
   ]
  },
  {
   "cell_type": "code",
   "execution_count": 41,
   "metadata": {},
   "outputs": [
    {
     "data": {
      "text/html": [
       "<style>#sk-container-id-1 {\n",
       "  /* Definition of color scheme common for light and dark mode */\n",
       "  --sklearn-color-text: black;\n",
       "  --sklearn-color-line: gray;\n",
       "  /* Definition of color scheme for unfitted estimators */\n",
       "  --sklearn-color-unfitted-level-0: #fff5e6;\n",
       "  --sklearn-color-unfitted-level-1: #f6e4d2;\n",
       "  --sklearn-color-unfitted-level-2: #ffe0b3;\n",
       "  --sklearn-color-unfitted-level-3: chocolate;\n",
       "  /* Definition of color scheme for fitted estimators */\n",
       "  --sklearn-color-fitted-level-0: #f0f8ff;\n",
       "  --sklearn-color-fitted-level-1: #d4ebff;\n",
       "  --sklearn-color-fitted-level-2: #b3dbfd;\n",
       "  --sklearn-color-fitted-level-3: cornflowerblue;\n",
       "\n",
       "  /* Specific color for light theme */\n",
       "  --sklearn-color-text-on-default-background: var(--sg-text-color, var(--theme-code-foreground, var(--jp-content-font-color1, black)));\n",
       "  --sklearn-color-background: var(--sg-background-color, var(--theme-background, var(--jp-layout-color0, white)));\n",
       "  --sklearn-color-border-box: var(--sg-text-color, var(--theme-code-foreground, var(--jp-content-font-color1, black)));\n",
       "  --sklearn-color-icon: #696969;\n",
       "\n",
       "  @media (prefers-color-scheme: dark) {\n",
       "    /* Redefinition of color scheme for dark theme */\n",
       "    --sklearn-color-text-on-default-background: var(--sg-text-color, var(--theme-code-foreground, var(--jp-content-font-color1, white)));\n",
       "    --sklearn-color-background: var(--sg-background-color, var(--theme-background, var(--jp-layout-color0, #111)));\n",
       "    --sklearn-color-border-box: var(--sg-text-color, var(--theme-code-foreground, var(--jp-content-font-color1, white)));\n",
       "    --sklearn-color-icon: #878787;\n",
       "  }\n",
       "}\n",
       "\n",
       "#sk-container-id-1 {\n",
       "  color: var(--sklearn-color-text);\n",
       "}\n",
       "\n",
       "#sk-container-id-1 pre {\n",
       "  padding: 0;\n",
       "}\n",
       "\n",
       "#sk-container-id-1 input.sk-hidden--visually {\n",
       "  border: 0;\n",
       "  clip: rect(1px 1px 1px 1px);\n",
       "  clip: rect(1px, 1px, 1px, 1px);\n",
       "  height: 1px;\n",
       "  margin: -1px;\n",
       "  overflow: hidden;\n",
       "  padding: 0;\n",
       "  position: absolute;\n",
       "  width: 1px;\n",
       "}\n",
       "\n",
       "#sk-container-id-1 div.sk-dashed-wrapped {\n",
       "  border: 1px dashed var(--sklearn-color-line);\n",
       "  margin: 0 0.4em 0.5em 0.4em;\n",
       "  box-sizing: border-box;\n",
       "  padding-bottom: 0.4em;\n",
       "  background-color: var(--sklearn-color-background);\n",
       "}\n",
       "\n",
       "#sk-container-id-1 div.sk-container {\n",
       "  /* jupyter's `normalize.less` sets `[hidden] { display: none; }`\n",
       "     but bootstrap.min.css set `[hidden] { display: none !important; }`\n",
       "     so we also need the `!important` here to be able to override the\n",
       "     default hidden behavior on the sphinx rendered scikit-learn.org.\n",
       "     See: https://github.com/scikit-learn/scikit-learn/issues/21755 */\n",
       "  display: inline-block !important;\n",
       "  position: relative;\n",
       "}\n",
       "\n",
       "#sk-container-id-1 div.sk-text-repr-fallback {\n",
       "  display: none;\n",
       "}\n",
       "\n",
       "div.sk-parallel-item,\n",
       "div.sk-serial,\n",
       "div.sk-item {\n",
       "  /* draw centered vertical line to link estimators */\n",
       "  background-image: linear-gradient(var(--sklearn-color-text-on-default-background), var(--sklearn-color-text-on-default-background));\n",
       "  background-size: 2px 100%;\n",
       "  background-repeat: no-repeat;\n",
       "  background-position: center center;\n",
       "}\n",
       "\n",
       "/* Parallel-specific style estimator block */\n",
       "\n",
       "#sk-container-id-1 div.sk-parallel-item::after {\n",
       "  content: \"\";\n",
       "  width: 100%;\n",
       "  border-bottom: 2px solid var(--sklearn-color-text-on-default-background);\n",
       "  flex-grow: 1;\n",
       "}\n",
       "\n",
       "#sk-container-id-1 div.sk-parallel {\n",
       "  display: flex;\n",
       "  align-items: stretch;\n",
       "  justify-content: center;\n",
       "  background-color: var(--sklearn-color-background);\n",
       "  position: relative;\n",
       "}\n",
       "\n",
       "#sk-container-id-1 div.sk-parallel-item {\n",
       "  display: flex;\n",
       "  flex-direction: column;\n",
       "}\n",
       "\n",
       "#sk-container-id-1 div.sk-parallel-item:first-child::after {\n",
       "  align-self: flex-end;\n",
       "  width: 50%;\n",
       "}\n",
       "\n",
       "#sk-container-id-1 div.sk-parallel-item:last-child::after {\n",
       "  align-self: flex-start;\n",
       "  width: 50%;\n",
       "}\n",
       "\n",
       "#sk-container-id-1 div.sk-parallel-item:only-child::after {\n",
       "  width: 0;\n",
       "}\n",
       "\n",
       "/* Serial-specific style estimator block */\n",
       "\n",
       "#sk-container-id-1 div.sk-serial {\n",
       "  display: flex;\n",
       "  flex-direction: column;\n",
       "  align-items: center;\n",
       "  background-color: var(--sklearn-color-background);\n",
       "  padding-right: 1em;\n",
       "  padding-left: 1em;\n",
       "}\n",
       "\n",
       "\n",
       "/* Toggleable style: style used for estimator/Pipeline/ColumnTransformer box that is\n",
       "clickable and can be expanded/collapsed.\n",
       "- Pipeline and ColumnTransformer use this feature and define the default style\n",
       "- Estimators will overwrite some part of the style using the `sk-estimator` class\n",
       "*/\n",
       "\n",
       "/* Pipeline and ColumnTransformer style (default) */\n",
       "\n",
       "#sk-container-id-1 div.sk-toggleable {\n",
       "  /* Default theme specific background. It is overwritten whether we have a\n",
       "  specific estimator or a Pipeline/ColumnTransformer */\n",
       "  background-color: var(--sklearn-color-background);\n",
       "}\n",
       "\n",
       "/* Toggleable label */\n",
       "#sk-container-id-1 label.sk-toggleable__label {\n",
       "  cursor: pointer;\n",
       "  display: block;\n",
       "  width: 100%;\n",
       "  margin-bottom: 0;\n",
       "  padding: 0.5em;\n",
       "  box-sizing: border-box;\n",
       "  text-align: center;\n",
       "}\n",
       "\n",
       "#sk-container-id-1 label.sk-toggleable__label-arrow:before {\n",
       "  /* Arrow on the left of the label */\n",
       "  content: \"▸\";\n",
       "  float: left;\n",
       "  margin-right: 0.25em;\n",
       "  color: var(--sklearn-color-icon);\n",
       "}\n",
       "\n",
       "#sk-container-id-1 label.sk-toggleable__label-arrow:hover:before {\n",
       "  color: var(--sklearn-color-text);\n",
       "}\n",
       "\n",
       "/* Toggleable content - dropdown */\n",
       "\n",
       "#sk-container-id-1 div.sk-toggleable__content {\n",
       "  max-height: 0;\n",
       "  max-width: 0;\n",
       "  overflow: hidden;\n",
       "  text-align: left;\n",
       "  /* unfitted */\n",
       "  background-color: var(--sklearn-color-unfitted-level-0);\n",
       "}\n",
       "\n",
       "#sk-container-id-1 div.sk-toggleable__content.fitted {\n",
       "  /* fitted */\n",
       "  background-color: var(--sklearn-color-fitted-level-0);\n",
       "}\n",
       "\n",
       "#sk-container-id-1 div.sk-toggleable__content pre {\n",
       "  margin: 0.2em;\n",
       "  border-radius: 0.25em;\n",
       "  color: var(--sklearn-color-text);\n",
       "  /* unfitted */\n",
       "  background-color: var(--sklearn-color-unfitted-level-0);\n",
       "}\n",
       "\n",
       "#sk-container-id-1 div.sk-toggleable__content.fitted pre {\n",
       "  /* unfitted */\n",
       "  background-color: var(--sklearn-color-fitted-level-0);\n",
       "}\n",
       "\n",
       "#sk-container-id-1 input.sk-toggleable__control:checked~div.sk-toggleable__content {\n",
       "  /* Expand drop-down */\n",
       "  max-height: 200px;\n",
       "  max-width: 100%;\n",
       "  overflow: auto;\n",
       "}\n",
       "\n",
       "#sk-container-id-1 input.sk-toggleable__control:checked~label.sk-toggleable__label-arrow:before {\n",
       "  content: \"▾\";\n",
       "}\n",
       "\n",
       "/* Pipeline/ColumnTransformer-specific style */\n",
       "\n",
       "#sk-container-id-1 div.sk-label input.sk-toggleable__control:checked~label.sk-toggleable__label {\n",
       "  color: var(--sklearn-color-text);\n",
       "  background-color: var(--sklearn-color-unfitted-level-2);\n",
       "}\n",
       "\n",
       "#sk-container-id-1 div.sk-label.fitted input.sk-toggleable__control:checked~label.sk-toggleable__label {\n",
       "  background-color: var(--sklearn-color-fitted-level-2);\n",
       "}\n",
       "\n",
       "/* Estimator-specific style */\n",
       "\n",
       "/* Colorize estimator box */\n",
       "#sk-container-id-1 div.sk-estimator input.sk-toggleable__control:checked~label.sk-toggleable__label {\n",
       "  /* unfitted */\n",
       "  background-color: var(--sklearn-color-unfitted-level-2);\n",
       "}\n",
       "\n",
       "#sk-container-id-1 div.sk-estimator.fitted input.sk-toggleable__control:checked~label.sk-toggleable__label {\n",
       "  /* fitted */\n",
       "  background-color: var(--sklearn-color-fitted-level-2);\n",
       "}\n",
       "\n",
       "#sk-container-id-1 div.sk-label label.sk-toggleable__label,\n",
       "#sk-container-id-1 div.sk-label label {\n",
       "  /* The background is the default theme color */\n",
       "  color: var(--sklearn-color-text-on-default-background);\n",
       "}\n",
       "\n",
       "/* On hover, darken the color of the background */\n",
       "#sk-container-id-1 div.sk-label:hover label.sk-toggleable__label {\n",
       "  color: var(--sklearn-color-text);\n",
       "  background-color: var(--sklearn-color-unfitted-level-2);\n",
       "}\n",
       "\n",
       "/* Label box, darken color on hover, fitted */\n",
       "#sk-container-id-1 div.sk-label.fitted:hover label.sk-toggleable__label.fitted {\n",
       "  color: var(--sklearn-color-text);\n",
       "  background-color: var(--sklearn-color-fitted-level-2);\n",
       "}\n",
       "\n",
       "/* Estimator label */\n",
       "\n",
       "#sk-container-id-1 div.sk-label label {\n",
       "  font-family: monospace;\n",
       "  font-weight: bold;\n",
       "  display: inline-block;\n",
       "  line-height: 1.2em;\n",
       "}\n",
       "\n",
       "#sk-container-id-1 div.sk-label-container {\n",
       "  text-align: center;\n",
       "}\n",
       "\n",
       "/* Estimator-specific */\n",
       "#sk-container-id-1 div.sk-estimator {\n",
       "  font-family: monospace;\n",
       "  border: 1px dotted var(--sklearn-color-border-box);\n",
       "  border-radius: 0.25em;\n",
       "  box-sizing: border-box;\n",
       "  margin-bottom: 0.5em;\n",
       "  /* unfitted */\n",
       "  background-color: var(--sklearn-color-unfitted-level-0);\n",
       "}\n",
       "\n",
       "#sk-container-id-1 div.sk-estimator.fitted {\n",
       "  /* fitted */\n",
       "  background-color: var(--sklearn-color-fitted-level-0);\n",
       "}\n",
       "\n",
       "/* on hover */\n",
       "#sk-container-id-1 div.sk-estimator:hover {\n",
       "  /* unfitted */\n",
       "  background-color: var(--sklearn-color-unfitted-level-2);\n",
       "}\n",
       "\n",
       "#sk-container-id-1 div.sk-estimator.fitted:hover {\n",
       "  /* fitted */\n",
       "  background-color: var(--sklearn-color-fitted-level-2);\n",
       "}\n",
       "\n",
       "/* Specification for estimator info (e.g. \"i\" and \"?\") */\n",
       "\n",
       "/* Common style for \"i\" and \"?\" */\n",
       "\n",
       ".sk-estimator-doc-link,\n",
       "a:link.sk-estimator-doc-link,\n",
       "a:visited.sk-estimator-doc-link {\n",
       "  float: right;\n",
       "  font-size: smaller;\n",
       "  line-height: 1em;\n",
       "  font-family: monospace;\n",
       "  background-color: var(--sklearn-color-background);\n",
       "  border-radius: 1em;\n",
       "  height: 1em;\n",
       "  width: 1em;\n",
       "  text-decoration: none !important;\n",
       "  margin-left: 1ex;\n",
       "  /* unfitted */\n",
       "  border: var(--sklearn-color-unfitted-level-1) 1pt solid;\n",
       "  color: var(--sklearn-color-unfitted-level-1);\n",
       "}\n",
       "\n",
       ".sk-estimator-doc-link.fitted,\n",
       "a:link.sk-estimator-doc-link.fitted,\n",
       "a:visited.sk-estimator-doc-link.fitted {\n",
       "  /* fitted */\n",
       "  border: var(--sklearn-color-fitted-level-1) 1pt solid;\n",
       "  color: var(--sklearn-color-fitted-level-1);\n",
       "}\n",
       "\n",
       "/* On hover */\n",
       "div.sk-estimator:hover .sk-estimator-doc-link:hover,\n",
       ".sk-estimator-doc-link:hover,\n",
       "div.sk-label-container:hover .sk-estimator-doc-link:hover,\n",
       ".sk-estimator-doc-link:hover {\n",
       "  /* unfitted */\n",
       "  background-color: var(--sklearn-color-unfitted-level-3);\n",
       "  color: var(--sklearn-color-background);\n",
       "  text-decoration: none;\n",
       "}\n",
       "\n",
       "div.sk-estimator.fitted:hover .sk-estimator-doc-link.fitted:hover,\n",
       ".sk-estimator-doc-link.fitted:hover,\n",
       "div.sk-label-container:hover .sk-estimator-doc-link.fitted:hover,\n",
       ".sk-estimator-doc-link.fitted:hover {\n",
       "  /* fitted */\n",
       "  background-color: var(--sklearn-color-fitted-level-3);\n",
       "  color: var(--sklearn-color-background);\n",
       "  text-decoration: none;\n",
       "}\n",
       "\n",
       "/* Span, style for the box shown on hovering the info icon */\n",
       ".sk-estimator-doc-link span {\n",
       "  display: none;\n",
       "  z-index: 9999;\n",
       "  position: relative;\n",
       "  font-weight: normal;\n",
       "  right: .2ex;\n",
       "  padding: .5ex;\n",
       "  margin: .5ex;\n",
       "  width: min-content;\n",
       "  min-width: 20ex;\n",
       "  max-width: 50ex;\n",
       "  color: var(--sklearn-color-text);\n",
       "  box-shadow: 2pt 2pt 4pt #999;\n",
       "  /* unfitted */\n",
       "  background: var(--sklearn-color-unfitted-level-0);\n",
       "  border: .5pt solid var(--sklearn-color-unfitted-level-3);\n",
       "}\n",
       "\n",
       ".sk-estimator-doc-link.fitted span {\n",
       "  /* fitted */\n",
       "  background: var(--sklearn-color-fitted-level-0);\n",
       "  border: var(--sklearn-color-fitted-level-3);\n",
       "}\n",
       "\n",
       ".sk-estimator-doc-link:hover span {\n",
       "  display: block;\n",
       "}\n",
       "\n",
       "/* \"?\"-specific style due to the `<a>` HTML tag */\n",
       "\n",
       "#sk-container-id-1 a.estimator_doc_link {\n",
       "  float: right;\n",
       "  font-size: 1rem;\n",
       "  line-height: 1em;\n",
       "  font-family: monospace;\n",
       "  background-color: var(--sklearn-color-background);\n",
       "  border-radius: 1rem;\n",
       "  height: 1rem;\n",
       "  width: 1rem;\n",
       "  text-decoration: none;\n",
       "  /* unfitted */\n",
       "  color: var(--sklearn-color-unfitted-level-1);\n",
       "  border: var(--sklearn-color-unfitted-level-1) 1pt solid;\n",
       "}\n",
       "\n",
       "#sk-container-id-1 a.estimator_doc_link.fitted {\n",
       "  /* fitted */\n",
       "  border: var(--sklearn-color-fitted-level-1) 1pt solid;\n",
       "  color: var(--sklearn-color-fitted-level-1);\n",
       "}\n",
       "\n",
       "/* On hover */\n",
       "#sk-container-id-1 a.estimator_doc_link:hover {\n",
       "  /* unfitted */\n",
       "  background-color: var(--sklearn-color-unfitted-level-3);\n",
       "  color: var(--sklearn-color-background);\n",
       "  text-decoration: none;\n",
       "}\n",
       "\n",
       "#sk-container-id-1 a.estimator_doc_link.fitted:hover {\n",
       "  /* fitted */\n",
       "  background-color: var(--sklearn-color-fitted-level-3);\n",
       "}\n",
       "</style><div id=\"sk-container-id-1\" class=\"sk-top-container\"><div class=\"sk-text-repr-fallback\"><pre>RandomForestClassifier()</pre><b>In a Jupyter environment, please rerun this cell to show the HTML representation or trust the notebook. <br />On GitHub, the HTML representation is unable to render, please try loading this page with nbviewer.org.</b></div><div class=\"sk-container\" hidden><div class=\"sk-item\"><div class=\"sk-estimator fitted sk-toggleable\"><input class=\"sk-toggleable__control sk-hidden--visually\" id=\"sk-estimator-id-1\" type=\"checkbox\" checked><label for=\"sk-estimator-id-1\" class=\"sk-toggleable__label fitted sk-toggleable__label-arrow fitted\">&nbsp;&nbsp;RandomForestClassifier<a class=\"sk-estimator-doc-link fitted\" rel=\"noreferrer\" target=\"_blank\" href=\"https://scikit-learn.org/1.5/modules/generated/sklearn.ensemble.RandomForestClassifier.html\">?<span>Documentation for RandomForestClassifier</span></a><span class=\"sk-estimator-doc-link fitted\">i<span>Fitted</span></span></label><div class=\"sk-toggleable__content fitted\"><pre>RandomForestClassifier()</pre></div> </div></div></div></div>"
      ],
      "text/plain": [
       "RandomForestClassifier()"
      ]
     },
     "execution_count": 41,
     "metadata": {},
     "output_type": "execute_result"
    }
   ],
   "source": [
    "from sklearn.ensemble import RandomForestClassifier\n",
    "\n",
    "rf = RandomForestClassifier()\n",
    "rf.fit(X_train_scaled, y_train)"
   ]
  },
  {
   "cell_type": "code",
   "execution_count": 42,
   "metadata": {},
   "outputs": [],
   "source": [
    "y_pred = rf.predict(X_test_scaled)\n"
   ]
  },
  {
   "cell_type": "code",
   "execution_count": 43,
   "metadata": {},
   "outputs": [
    {
     "data": {
      "text/plain": [
       "0.939067297850563"
      ]
     },
     "execution_count": 43,
     "metadata": {},
     "output_type": "execute_result"
    }
   ],
   "source": [
    "from sklearn.metrics import accuracy_score\n",
    "\n",
    "accuracy_score(y_test, y_pred)"
   ]
  },
  {
   "cell_type": "markdown",
   "metadata": {},
   "source": [
    "Instead of using a classifier, we'll try using a regressor to predict the number of medals a country will win. We'll round the final value to have a whole number in order to check the accuracy with our testing data"
   ]
  },
  {
   "cell_type": "code",
   "execution_count": 44,
   "metadata": {},
   "outputs": [
    {
     "data": {
      "text/html": [
       "<style>#sk-container-id-2 {\n",
       "  /* Definition of color scheme common for light and dark mode */\n",
       "  --sklearn-color-text: black;\n",
       "  --sklearn-color-line: gray;\n",
       "  /* Definition of color scheme for unfitted estimators */\n",
       "  --sklearn-color-unfitted-level-0: #fff5e6;\n",
       "  --sklearn-color-unfitted-level-1: #f6e4d2;\n",
       "  --sklearn-color-unfitted-level-2: #ffe0b3;\n",
       "  --sklearn-color-unfitted-level-3: chocolate;\n",
       "  /* Definition of color scheme for fitted estimators */\n",
       "  --sklearn-color-fitted-level-0: #f0f8ff;\n",
       "  --sklearn-color-fitted-level-1: #d4ebff;\n",
       "  --sklearn-color-fitted-level-2: #b3dbfd;\n",
       "  --sklearn-color-fitted-level-3: cornflowerblue;\n",
       "\n",
       "  /* Specific color for light theme */\n",
       "  --sklearn-color-text-on-default-background: var(--sg-text-color, var(--theme-code-foreground, var(--jp-content-font-color1, black)));\n",
       "  --sklearn-color-background: var(--sg-background-color, var(--theme-background, var(--jp-layout-color0, white)));\n",
       "  --sklearn-color-border-box: var(--sg-text-color, var(--theme-code-foreground, var(--jp-content-font-color1, black)));\n",
       "  --sklearn-color-icon: #696969;\n",
       "\n",
       "  @media (prefers-color-scheme: dark) {\n",
       "    /* Redefinition of color scheme for dark theme */\n",
       "    --sklearn-color-text-on-default-background: var(--sg-text-color, var(--theme-code-foreground, var(--jp-content-font-color1, white)));\n",
       "    --sklearn-color-background: var(--sg-background-color, var(--theme-background, var(--jp-layout-color0, #111)));\n",
       "    --sklearn-color-border-box: var(--sg-text-color, var(--theme-code-foreground, var(--jp-content-font-color1, white)));\n",
       "    --sklearn-color-icon: #878787;\n",
       "  }\n",
       "}\n",
       "\n",
       "#sk-container-id-2 {\n",
       "  color: var(--sklearn-color-text);\n",
       "}\n",
       "\n",
       "#sk-container-id-2 pre {\n",
       "  padding: 0;\n",
       "}\n",
       "\n",
       "#sk-container-id-2 input.sk-hidden--visually {\n",
       "  border: 0;\n",
       "  clip: rect(1px 1px 1px 1px);\n",
       "  clip: rect(1px, 1px, 1px, 1px);\n",
       "  height: 1px;\n",
       "  margin: -1px;\n",
       "  overflow: hidden;\n",
       "  padding: 0;\n",
       "  position: absolute;\n",
       "  width: 1px;\n",
       "}\n",
       "\n",
       "#sk-container-id-2 div.sk-dashed-wrapped {\n",
       "  border: 1px dashed var(--sklearn-color-line);\n",
       "  margin: 0 0.4em 0.5em 0.4em;\n",
       "  box-sizing: border-box;\n",
       "  padding-bottom: 0.4em;\n",
       "  background-color: var(--sklearn-color-background);\n",
       "}\n",
       "\n",
       "#sk-container-id-2 div.sk-container {\n",
       "  /* jupyter's `normalize.less` sets `[hidden] { display: none; }`\n",
       "     but bootstrap.min.css set `[hidden] { display: none !important; }`\n",
       "     so we also need the `!important` here to be able to override the\n",
       "     default hidden behavior on the sphinx rendered scikit-learn.org.\n",
       "     See: https://github.com/scikit-learn/scikit-learn/issues/21755 */\n",
       "  display: inline-block !important;\n",
       "  position: relative;\n",
       "}\n",
       "\n",
       "#sk-container-id-2 div.sk-text-repr-fallback {\n",
       "  display: none;\n",
       "}\n",
       "\n",
       "div.sk-parallel-item,\n",
       "div.sk-serial,\n",
       "div.sk-item {\n",
       "  /* draw centered vertical line to link estimators */\n",
       "  background-image: linear-gradient(var(--sklearn-color-text-on-default-background), var(--sklearn-color-text-on-default-background));\n",
       "  background-size: 2px 100%;\n",
       "  background-repeat: no-repeat;\n",
       "  background-position: center center;\n",
       "}\n",
       "\n",
       "/* Parallel-specific style estimator block */\n",
       "\n",
       "#sk-container-id-2 div.sk-parallel-item::after {\n",
       "  content: \"\";\n",
       "  width: 100%;\n",
       "  border-bottom: 2px solid var(--sklearn-color-text-on-default-background);\n",
       "  flex-grow: 1;\n",
       "}\n",
       "\n",
       "#sk-container-id-2 div.sk-parallel {\n",
       "  display: flex;\n",
       "  align-items: stretch;\n",
       "  justify-content: center;\n",
       "  background-color: var(--sklearn-color-background);\n",
       "  position: relative;\n",
       "}\n",
       "\n",
       "#sk-container-id-2 div.sk-parallel-item {\n",
       "  display: flex;\n",
       "  flex-direction: column;\n",
       "}\n",
       "\n",
       "#sk-container-id-2 div.sk-parallel-item:first-child::after {\n",
       "  align-self: flex-end;\n",
       "  width: 50%;\n",
       "}\n",
       "\n",
       "#sk-container-id-2 div.sk-parallel-item:last-child::after {\n",
       "  align-self: flex-start;\n",
       "  width: 50%;\n",
       "}\n",
       "\n",
       "#sk-container-id-2 div.sk-parallel-item:only-child::after {\n",
       "  width: 0;\n",
       "}\n",
       "\n",
       "/* Serial-specific style estimator block */\n",
       "\n",
       "#sk-container-id-2 div.sk-serial {\n",
       "  display: flex;\n",
       "  flex-direction: column;\n",
       "  align-items: center;\n",
       "  background-color: var(--sklearn-color-background);\n",
       "  padding-right: 1em;\n",
       "  padding-left: 1em;\n",
       "}\n",
       "\n",
       "\n",
       "/* Toggleable style: style used for estimator/Pipeline/ColumnTransformer box that is\n",
       "clickable and can be expanded/collapsed.\n",
       "- Pipeline and ColumnTransformer use this feature and define the default style\n",
       "- Estimators will overwrite some part of the style using the `sk-estimator` class\n",
       "*/\n",
       "\n",
       "/* Pipeline and ColumnTransformer style (default) */\n",
       "\n",
       "#sk-container-id-2 div.sk-toggleable {\n",
       "  /* Default theme specific background. It is overwritten whether we have a\n",
       "  specific estimator or a Pipeline/ColumnTransformer */\n",
       "  background-color: var(--sklearn-color-background);\n",
       "}\n",
       "\n",
       "/* Toggleable label */\n",
       "#sk-container-id-2 label.sk-toggleable__label {\n",
       "  cursor: pointer;\n",
       "  display: block;\n",
       "  width: 100%;\n",
       "  margin-bottom: 0;\n",
       "  padding: 0.5em;\n",
       "  box-sizing: border-box;\n",
       "  text-align: center;\n",
       "}\n",
       "\n",
       "#sk-container-id-2 label.sk-toggleable__label-arrow:before {\n",
       "  /* Arrow on the left of the label */\n",
       "  content: \"▸\";\n",
       "  float: left;\n",
       "  margin-right: 0.25em;\n",
       "  color: var(--sklearn-color-icon);\n",
       "}\n",
       "\n",
       "#sk-container-id-2 label.sk-toggleable__label-arrow:hover:before {\n",
       "  color: var(--sklearn-color-text);\n",
       "}\n",
       "\n",
       "/* Toggleable content - dropdown */\n",
       "\n",
       "#sk-container-id-2 div.sk-toggleable__content {\n",
       "  max-height: 0;\n",
       "  max-width: 0;\n",
       "  overflow: hidden;\n",
       "  text-align: left;\n",
       "  /* unfitted */\n",
       "  background-color: var(--sklearn-color-unfitted-level-0);\n",
       "}\n",
       "\n",
       "#sk-container-id-2 div.sk-toggleable__content.fitted {\n",
       "  /* fitted */\n",
       "  background-color: var(--sklearn-color-fitted-level-0);\n",
       "}\n",
       "\n",
       "#sk-container-id-2 div.sk-toggleable__content pre {\n",
       "  margin: 0.2em;\n",
       "  border-radius: 0.25em;\n",
       "  color: var(--sklearn-color-text);\n",
       "  /* unfitted */\n",
       "  background-color: var(--sklearn-color-unfitted-level-0);\n",
       "}\n",
       "\n",
       "#sk-container-id-2 div.sk-toggleable__content.fitted pre {\n",
       "  /* unfitted */\n",
       "  background-color: var(--sklearn-color-fitted-level-0);\n",
       "}\n",
       "\n",
       "#sk-container-id-2 input.sk-toggleable__control:checked~div.sk-toggleable__content {\n",
       "  /* Expand drop-down */\n",
       "  max-height: 200px;\n",
       "  max-width: 100%;\n",
       "  overflow: auto;\n",
       "}\n",
       "\n",
       "#sk-container-id-2 input.sk-toggleable__control:checked~label.sk-toggleable__label-arrow:before {\n",
       "  content: \"▾\";\n",
       "}\n",
       "\n",
       "/* Pipeline/ColumnTransformer-specific style */\n",
       "\n",
       "#sk-container-id-2 div.sk-label input.sk-toggleable__control:checked~label.sk-toggleable__label {\n",
       "  color: var(--sklearn-color-text);\n",
       "  background-color: var(--sklearn-color-unfitted-level-2);\n",
       "}\n",
       "\n",
       "#sk-container-id-2 div.sk-label.fitted input.sk-toggleable__control:checked~label.sk-toggleable__label {\n",
       "  background-color: var(--sklearn-color-fitted-level-2);\n",
       "}\n",
       "\n",
       "/* Estimator-specific style */\n",
       "\n",
       "/* Colorize estimator box */\n",
       "#sk-container-id-2 div.sk-estimator input.sk-toggleable__control:checked~label.sk-toggleable__label {\n",
       "  /* unfitted */\n",
       "  background-color: var(--sklearn-color-unfitted-level-2);\n",
       "}\n",
       "\n",
       "#sk-container-id-2 div.sk-estimator.fitted input.sk-toggleable__control:checked~label.sk-toggleable__label {\n",
       "  /* fitted */\n",
       "  background-color: var(--sklearn-color-fitted-level-2);\n",
       "}\n",
       "\n",
       "#sk-container-id-2 div.sk-label label.sk-toggleable__label,\n",
       "#sk-container-id-2 div.sk-label label {\n",
       "  /* The background is the default theme color */\n",
       "  color: var(--sklearn-color-text-on-default-background);\n",
       "}\n",
       "\n",
       "/* On hover, darken the color of the background */\n",
       "#sk-container-id-2 div.sk-label:hover label.sk-toggleable__label {\n",
       "  color: var(--sklearn-color-text);\n",
       "  background-color: var(--sklearn-color-unfitted-level-2);\n",
       "}\n",
       "\n",
       "/* Label box, darken color on hover, fitted */\n",
       "#sk-container-id-2 div.sk-label.fitted:hover label.sk-toggleable__label.fitted {\n",
       "  color: var(--sklearn-color-text);\n",
       "  background-color: var(--sklearn-color-fitted-level-2);\n",
       "}\n",
       "\n",
       "/* Estimator label */\n",
       "\n",
       "#sk-container-id-2 div.sk-label label {\n",
       "  font-family: monospace;\n",
       "  font-weight: bold;\n",
       "  display: inline-block;\n",
       "  line-height: 1.2em;\n",
       "}\n",
       "\n",
       "#sk-container-id-2 div.sk-label-container {\n",
       "  text-align: center;\n",
       "}\n",
       "\n",
       "/* Estimator-specific */\n",
       "#sk-container-id-2 div.sk-estimator {\n",
       "  font-family: monospace;\n",
       "  border: 1px dotted var(--sklearn-color-border-box);\n",
       "  border-radius: 0.25em;\n",
       "  box-sizing: border-box;\n",
       "  margin-bottom: 0.5em;\n",
       "  /* unfitted */\n",
       "  background-color: var(--sklearn-color-unfitted-level-0);\n",
       "}\n",
       "\n",
       "#sk-container-id-2 div.sk-estimator.fitted {\n",
       "  /* fitted */\n",
       "  background-color: var(--sklearn-color-fitted-level-0);\n",
       "}\n",
       "\n",
       "/* on hover */\n",
       "#sk-container-id-2 div.sk-estimator:hover {\n",
       "  /* unfitted */\n",
       "  background-color: var(--sklearn-color-unfitted-level-2);\n",
       "}\n",
       "\n",
       "#sk-container-id-2 div.sk-estimator.fitted:hover {\n",
       "  /* fitted */\n",
       "  background-color: var(--sklearn-color-fitted-level-2);\n",
       "}\n",
       "\n",
       "/* Specification for estimator info (e.g. \"i\" and \"?\") */\n",
       "\n",
       "/* Common style for \"i\" and \"?\" */\n",
       "\n",
       ".sk-estimator-doc-link,\n",
       "a:link.sk-estimator-doc-link,\n",
       "a:visited.sk-estimator-doc-link {\n",
       "  float: right;\n",
       "  font-size: smaller;\n",
       "  line-height: 1em;\n",
       "  font-family: monospace;\n",
       "  background-color: var(--sklearn-color-background);\n",
       "  border-radius: 1em;\n",
       "  height: 1em;\n",
       "  width: 1em;\n",
       "  text-decoration: none !important;\n",
       "  margin-left: 1ex;\n",
       "  /* unfitted */\n",
       "  border: var(--sklearn-color-unfitted-level-1) 1pt solid;\n",
       "  color: var(--sklearn-color-unfitted-level-1);\n",
       "}\n",
       "\n",
       ".sk-estimator-doc-link.fitted,\n",
       "a:link.sk-estimator-doc-link.fitted,\n",
       "a:visited.sk-estimator-doc-link.fitted {\n",
       "  /* fitted */\n",
       "  border: var(--sklearn-color-fitted-level-1) 1pt solid;\n",
       "  color: var(--sklearn-color-fitted-level-1);\n",
       "}\n",
       "\n",
       "/* On hover */\n",
       "div.sk-estimator:hover .sk-estimator-doc-link:hover,\n",
       ".sk-estimator-doc-link:hover,\n",
       "div.sk-label-container:hover .sk-estimator-doc-link:hover,\n",
       ".sk-estimator-doc-link:hover {\n",
       "  /* unfitted */\n",
       "  background-color: var(--sklearn-color-unfitted-level-3);\n",
       "  color: var(--sklearn-color-background);\n",
       "  text-decoration: none;\n",
       "}\n",
       "\n",
       "div.sk-estimator.fitted:hover .sk-estimator-doc-link.fitted:hover,\n",
       ".sk-estimator-doc-link.fitted:hover,\n",
       "div.sk-label-container:hover .sk-estimator-doc-link.fitted:hover,\n",
       ".sk-estimator-doc-link.fitted:hover {\n",
       "  /* fitted */\n",
       "  background-color: var(--sklearn-color-fitted-level-3);\n",
       "  color: var(--sklearn-color-background);\n",
       "  text-decoration: none;\n",
       "}\n",
       "\n",
       "/* Span, style for the box shown on hovering the info icon */\n",
       ".sk-estimator-doc-link span {\n",
       "  display: none;\n",
       "  z-index: 9999;\n",
       "  position: relative;\n",
       "  font-weight: normal;\n",
       "  right: .2ex;\n",
       "  padding: .5ex;\n",
       "  margin: .5ex;\n",
       "  width: min-content;\n",
       "  min-width: 20ex;\n",
       "  max-width: 50ex;\n",
       "  color: var(--sklearn-color-text);\n",
       "  box-shadow: 2pt 2pt 4pt #999;\n",
       "  /* unfitted */\n",
       "  background: var(--sklearn-color-unfitted-level-0);\n",
       "  border: .5pt solid var(--sklearn-color-unfitted-level-3);\n",
       "}\n",
       "\n",
       ".sk-estimator-doc-link.fitted span {\n",
       "  /* fitted */\n",
       "  background: var(--sklearn-color-fitted-level-0);\n",
       "  border: var(--sklearn-color-fitted-level-3);\n",
       "}\n",
       "\n",
       ".sk-estimator-doc-link:hover span {\n",
       "  display: block;\n",
       "}\n",
       "\n",
       "/* \"?\"-specific style due to the `<a>` HTML tag */\n",
       "\n",
       "#sk-container-id-2 a.estimator_doc_link {\n",
       "  float: right;\n",
       "  font-size: 1rem;\n",
       "  line-height: 1em;\n",
       "  font-family: monospace;\n",
       "  background-color: var(--sklearn-color-background);\n",
       "  border-radius: 1rem;\n",
       "  height: 1rem;\n",
       "  width: 1rem;\n",
       "  text-decoration: none;\n",
       "  /* unfitted */\n",
       "  color: var(--sklearn-color-unfitted-level-1);\n",
       "  border: var(--sklearn-color-unfitted-level-1) 1pt solid;\n",
       "}\n",
       "\n",
       "#sk-container-id-2 a.estimator_doc_link.fitted {\n",
       "  /* fitted */\n",
       "  border: var(--sklearn-color-fitted-level-1) 1pt solid;\n",
       "  color: var(--sklearn-color-fitted-level-1);\n",
       "}\n",
       "\n",
       "/* On hover */\n",
       "#sk-container-id-2 a.estimator_doc_link:hover {\n",
       "  /* unfitted */\n",
       "  background-color: var(--sklearn-color-unfitted-level-3);\n",
       "  color: var(--sklearn-color-background);\n",
       "  text-decoration: none;\n",
       "}\n",
       "\n",
       "#sk-container-id-2 a.estimator_doc_link.fitted:hover {\n",
       "  /* fitted */\n",
       "  background-color: var(--sklearn-color-fitted-level-3);\n",
       "}\n",
       "</style><div id=\"sk-container-id-2\" class=\"sk-top-container\"><div class=\"sk-text-repr-fallback\"><pre>RandomForestRegressor(random_state=42)</pre><b>In a Jupyter environment, please rerun this cell to show the HTML representation or trust the notebook. <br />On GitHub, the HTML representation is unable to render, please try loading this page with nbviewer.org.</b></div><div class=\"sk-container\" hidden><div class=\"sk-item\"><div class=\"sk-estimator fitted sk-toggleable\"><input class=\"sk-toggleable__control sk-hidden--visually\" id=\"sk-estimator-id-2\" type=\"checkbox\" checked><label for=\"sk-estimator-id-2\" class=\"sk-toggleable__label fitted sk-toggleable__label-arrow fitted\">&nbsp;&nbsp;RandomForestRegressor<a class=\"sk-estimator-doc-link fitted\" rel=\"noreferrer\" target=\"_blank\" href=\"https://scikit-learn.org/1.5/modules/generated/sklearn.ensemble.RandomForestRegressor.html\">?<span>Documentation for RandomForestRegressor</span></a><span class=\"sk-estimator-doc-link fitted\">i<span>Fitted</span></span></label><div class=\"sk-toggleable__content fitted\"><pre>RandomForestRegressor(random_state=42)</pre></div> </div></div></div></div>"
      ],
      "text/plain": [
       "RandomForestRegressor(random_state=42)"
      ]
     },
     "execution_count": 44,
     "metadata": {},
     "output_type": "execute_result"
    }
   ],
   "source": [
    "# We'll now try to use a RandomForest\n",
    "from sklearn.ensemble import RandomForestRegressor\n",
    "\n",
    "rf = RandomForestRegressor(random_state=42, n_estimators=100)\n",
    "\n",
    "rf.fit(X_train_scaled, y_train)"
   ]
  },
  {
   "cell_type": "code",
   "execution_count": 45,
   "metadata": {},
   "outputs": [
    {
     "data": {
      "text/plain": [
       "1.0"
      ]
     },
     "execution_count": 45,
     "metadata": {},
     "output_type": "execute_result"
    }
   ],
   "source": [
    "y_pred = rf.predict(X_test_scaled)\n",
    "rf.score(X_test_scaled, y_pred)\n"
   ]
  },
  {
   "cell_type": "code",
   "execution_count": 46,
   "metadata": {},
   "outputs": [
    {
     "data": {
      "text/plain": [
       "0.9991363868986693"
      ]
     },
     "execution_count": 46,
     "metadata": {},
     "output_type": "execute_result"
    }
   ],
   "source": [
    "y_pred_rounded = np.round(y_pred)\n",
    "accuracy_score(y_test, y_pred_rounded)"
   ]
  },
  {
   "cell_type": "code",
   "execution_count": 47,
   "metadata": {},
   "outputs": [
    {
     "name": "stdout",
     "output_type": "stream",
     "text": [
      "        Sex  Team  City  Sport  Event  Is_Host_Country  Year\n",
      "135925    1   141    12     38    334                0  1976\n",
      "126574    0    17     8      8    126                0  1948\n",
      "138241    1   141     7     32    266                0  1952\n",
      "50476     1    82     6     56    654                0  1936\n",
      "1846      1   135     7     35    303                0  1952\n"
     ]
    }
   ],
   "source": [
    "print(X_test.head())"
   ]
  },
  {
   "cell_type": "code",
   "execution_count": 48,
   "metadata": {},
   "outputs": [
    {
     "name": "stdout",
     "output_type": "stream",
     "text": [
      "        Sex  Team  City  Sport  Event  Is_Host_Country  Year  Predictions\n",
      "135925    1   141    12     38    334                0  1976         94.0\n",
      "126574    0    17     8      8    126                0  1948          1.0\n",
      "138241    1   141     7     32    266                0  1952         76.0\n",
      "50476     1    82     6     56    654                0  1936          3.0\n",
      "1846      1   135     7     35    303                0  1952          3.0\n"
     ]
    }
   ],
   "source": [
    "X_test[\"Predictions\"] = y_pred_rounded\n",
    "print(X_test.head())"
   ]
  },
  {
   "cell_type": "code",
   "execution_count": 49,
   "metadata": {},
   "outputs": [
    {
     "name": "stdout",
     "output_type": "stream",
     "text": [
      "                Team  Predictions\n",
      "0      United States        231.0\n",
      "1       Soviet Union        195.0\n",
      "2      Great Britain        146.0\n",
      "3       East Germany        126.0\n",
      "4       Unified Team        112.0\n",
      "..               ...          ...\n",
      "142  North Macedonia          1.0\n",
      "143            Tonga          1.0\n",
      "144         Paraguay          1.0\n",
      "145     Burkina Faso          1.0\n",
      "146       Cabo Verde          1.0\n",
      "\n",
      "[147 rows x 2 columns]\n"
     ]
    }
   ],
   "source": [
    "# Create a DataFrame for predicted_2028\n",
    "testing_df = pd.DataFrame(X_test, columns=['Team', 'Predictions'])\n",
    "\n",
    "testing_df_sorted = testing_df.sort_values(by='Predictions', ascending=False)\n",
    "\n",
    "# Group by 'Team' and sum the 'Predictions'\n",
    "leaderboard = testing_df_sorted.drop_duplicates(subset='Team', keep='first').reset_index(drop=True)\n",
    "\n",
    "leaderboard['Team'] = encoders['Team'].inverse_transform(leaderboard['Team'])\n",
    "\n",
    "# Display the leaderboard for the testing data (Keep in mind this is random throughout the years)\n",
    "print(leaderboard)"
   ]
  },
  {
   "cell_type": "markdown",
   "metadata": {},
   "source": [
    "99.9% accuracy. Seems too good to be true.\n",
    "\n",
    "For now we'll use this model to make our predictions for USA Olympics in 2028"
   ]
  },
  {
   "cell_type": "markdown",
   "metadata": {},
   "source": [
    "To find predictions we will need to make assumptions of the 2028 Olympics. The number of contestants per country has not been officially announced and each country will get a different number of athletes in the games. Some countries have many athletes who qualified for the olympics while less populated countries would likely have less athletes. This gives a large advantage to those with more contestants as there are more opportunities for them to win medals for their nation, boosting their country's rank.\n",
    "\n",
    "The number of countries has also not been officially confirmed."
   ]
  },
  {
   "cell_type": "markdown",
   "metadata": {},
   "source": [
    "Additionally there were 32 sports in 2024 olympics but will have 35 sports in 2028 as there are predicted 5 new sports coming to LA28 such as Baseball/Softball, Lacrosse, Cricket, Flag football, squash. Flag football and squash being completely new to the Olympics with the other sports being returning events.\n"
   ]
  },
  {
   "cell_type": "markdown",
   "metadata": {},
   "source": [
    "Given these new sports we need to figure out the event counts we need to consider based on previous events or Olympics.\n",
    "\n",
    "We can also estimate the new number of contestants based on historical prediction in similar sports. \n",
    "\n",
    "\n",
    "\n"
   ]
  },
  {
   "cell_type": "markdown",
   "metadata": {},
   "source": [
    "We are able to get a accuracy score of 93.75%, which is incredibly high using a random forest and a random split. Let's now attempt at using a time-based split. Instead of using a strict year as cuttoff separating the train-test split we'll try it with sorting the dataframe by year increasing and selecting the first 70% of rows for training and leave the bottom 30% of rows for testing."
   ]
  },
  {
   "cell_type": "code",
   "execution_count": 50,
   "metadata": {},
   "outputs": [
    {
     "name": "stdout",
     "output_type": "stream",
     "text": [
      "   Year  Average_Contestants_Per_Sport\n",
      "0  2016                     362.441176\n",
      "1  2020                     293.086957\n",
      "2  2024                     259.880000\n"
     ]
    }
   ],
   "source": [
    "recent_years = [2016, 2020, 2024]\n",
    "\n",
    "df_recent = X[X['Year'].isin(recent_years)]\n",
    "\n",
    "# Group by Year and Sport, then count the number of contestants (rows)\n",
    "grouped = df_recent.groupby(['Year', 'Sport']).size().reset_index(name='Contestant_Count')\n",
    "\n",
    "# Calculate the average number of contestants per sport for each year\n",
    "average_per_sport = grouped.groupby('Year')['Contestant_Count'].mean().reset_index(name='Average_Contestants_Per_Sport')\n",
    "\n",
    "# Display the results\n",
    "print(average_per_sport)"
   ]
  },
  {
   "cell_type": "code",
   "execution_count": 51,
   "metadata": {},
   "outputs": [
    {
     "name": "stdout",
     "output_type": "stream",
     "text": [
      "   Year  Average_Events_Per_Sport\n",
      "0  2016                      9.00\n",
      "1  2020                      7.50\n",
      "2  2024                      7.18\n"
     ]
    }
   ],
   "source": [
    "unique_events = df_recent[['Year', 'Sport', 'Event']].drop_duplicates()\n",
    "events_per_sport = unique_events.groupby(['Year', 'Sport']).size().reset_index(name='Event_Count')\n",
    "average_events_per_sport = events_per_sport.groupby('Year')['Event_Count'].mean().reset_index(name='Average_Events_Per_Sport')\n",
    "\n",
    "print(average_events_per_sport)\n"
   ]
  },
  {
   "cell_type": "code",
   "execution_count": 52,
   "metadata": {},
   "outputs": [
    {
     "name": "stdout",
     "output_type": "stream",
     "text": [
      "Contestant Growth Rate Per Game: -12.82014705882353\n",
      "Average Growth Rate per Game (Events): -0.22750000000000004\n"
     ]
    }
   ],
   "source": [
    "growth_rate_2016_2020 = (average_per_sport.loc[average_per_sport[\"Year\"] == 2020, \"Average_Contestants_Per_Sport\"].values[0] - \n",
    "                         average_per_sport.loc[average_per_sport[\"Year\"] == 2016, \"Average_Contestants_Per_Sport\"].values[0]) / 4\n",
    "\n",
    "growth_rate_2020_2024 = (average_per_sport.loc[average_per_sport[\"Year\"] == 2024, \"Average_Contestants_Per_Sport\"].values[0] - \n",
    "                         average_per_sport.loc[average_per_sport[\"Year\"] == 2020, \"Average_Contestants_Per_Sport\"].values[0]) / 4\n",
    "\n",
    "# Calculating the overall average growth rate\n",
    "contestant_growth_rate = (growth_rate_2016_2020 + growth_rate_2020_2024) / 2\n",
    "\n",
    "print(f\"Contestant Growth Rate Per Game: {contestant_growth_rate}\")\n",
    "\n",
    "# Get the average events per sport for 2016, 2020, and 2024\n",
    "avg_2016 = average_events_per_sport.loc[average_events_per_sport[\"Year\"] == 2016, \"Average_Events_Per_Sport\"].values[0]\n",
    "avg_2020 = average_events_per_sport.loc[average_events_per_sport[\"Year\"] == 2020, \"Average_Events_Per_Sport\"].values[0]\n",
    "avg_2024 = average_events_per_sport.loc[average_events_per_sport[\"Year\"] == 2024, \"Average_Events_Per_Sport\"].values[0]\n",
    "\n",
    "# Growth rate from 2016 to 2020\n",
    "growth_rate_2016_2020 = (avg_2020 - avg_2016) / 4\n",
    "\n",
    "# Growth rate from 2020 to 2024\n",
    "growth_rate_2020_2024 = (avg_2024 - avg_2020) / 4\n",
    "\n",
    "# Average growth rate per game\n",
    "event_growth_rate = (growth_rate_2016_2020 + growth_rate_2020_2024) / 2\n",
    "\n",
    "# Print the result\n",
    "print(\"Average Growth Rate per Game (Events):\", event_growth_rate)"
   ]
  },
  {
   "cell_type": "markdown",
   "metadata": {},
   "source": [
    "Now that we have calculated the average contestants per sport and average events per sport we can simulate the LA28 dataset for predictions"
   ]
  },
  {
   "cell_type": "code",
   "execution_count": 53,
   "metadata": {},
   "outputs": [
    {
     "name": "stdout",
     "output_type": "stream",
     "text": [
      "Projected Contestants for 2028: 247.05985294117647\n",
      "Projected Events for 2028: 6.9525\n"
     ]
    }
   ],
   "source": [
    "# Project 2028 averages\n",
    "projected_avg_contestants_2028 = average_per_sport.loc[average_per_sport[\"Year\"] == 2024, \"Average_Contestants_Per_Sport\"].values[0] + contestant_growth_rate\n",
    "projected_avg_events_2028 = average_events_per_sport.loc[average_events_per_sport[\"Year\"] == 2024, \"Average_Events_Per_Sport\"].values[0] + event_growth_rate\n",
    "\n",
    "print(f\"Projected Contestants for 2028: {projected_avg_contestants_2028}\")\n",
    "print(f\"Projected Events for 2028: {projected_avg_events_2028}\")"
   ]
  },
  {
   "cell_type": "code",
   "execution_count": 54,
   "metadata": {},
   "outputs": [
    {
     "name": "stdout",
     "output_type": "stream",
     "text": [
      "       Sex  Team  City  Sport  Event  Is_Host_Country  Year\n",
      "74454    1    23    16      8     75                0  2016\n",
      "6520     0    18     2     72    790                0  2004\n",
      "15320    1    49     2     37    318                0  1896\n",
      "44411    0    65     3     62    735                0  1996\n",
      "24886    0    27    20     61    721                0  2000\n"
     ]
    }
   ],
   "source": [
    "print(X_train.head())"
   ]
  },
  {
   "cell_type": "code",
   "execution_count": 55,
   "metadata": {},
   "outputs": [
    {
     "name": "stdout",
     "output_type": "stream",
     "text": [
      "United States    0.065723\n",
      "France           0.061644\n",
      "Australia        0.049946\n",
      "Germany          0.049792\n",
      "Italy            0.046945\n",
      "                   ...   \n",
      "Kosovo           0.000693\n",
      "Cabo Verde       0.000539\n",
      "Grenada          0.000462\n",
      "Saint Lucia      0.000385\n",
      "Dominica         0.000308\n",
      "Name: proportion, Length: 82, dtype: float64\n"
     ]
    }
   ],
   "source": [
    "# Load 2024 data as base\n",
    "X_2024 = X[X['Year'] == 2024].copy()\n",
    "team_counts = X_2024['Team'].value_counts(normalize=True)  # Normalize to get the proportion\n",
    "\n",
    "new_sports = [74, 75, 76]  # Your new sports, as numeric identifiers or names\n",
    "contestants_per_sport = 247  # Number of contestants per new sport\n",
    "events_per_sport = 7  # Each sport will have 6 events\n",
    "\n",
    "contestants_per_event = contestants_per_sport // events_per_sport\n",
    "total_new_contestants = len(new_sports) * contestants_per_sport  # Total contestants in the new sports\n",
    "\n",
    "\n",
    "#Create the team assignments\n",
    "team_assignments = []\n",
    "for team, proportion in team_counts.items():\n",
    "    num_teams_for_new_sports = int(proportion * total_new_contestants)\n",
    "    team_assignments.extend([team] * num_teams_for_new_sports)\n",
    "\n",
    "\n",
    "if len(team_assignments) < total_new_contestants:\n",
    "    team_assignments.extend(np.random.choice(list(team_counts.index), total_new_contestants - len(team_assignments)).tolist())\n",
    "\n",
    "# Ensure the list length matches\n",
    "team_assignments = team_assignments[:total_new_contestants]\n",
    "\n",
    "# Step 2: Shuffle team assignments for random distribution\n",
    "np.random.seed(42)\n",
    "np.random.shuffle(team_assignments)\n",
    "\n",
    "# Step 3: Generate the new rows for 2028\n",
    "new_rows = []\n",
    "event_start = 985  # Starting event number\n",
    "\n",
    "index = 0  # Initialize index for team_assignments\n",
    "for sport in new_sports:\n",
    "    for event_num in range(events_per_sport):\n",
    "        event_id = event_start + event_num  # Increment the event number for each sport\n",
    "        for contestant_id in range(1, contestants_per_event + 1):\n",
    "            \n",
    "            sex = 1 if index % 2 == 0 else 0\n",
    "            Is_Host = 1 if team_assignments[index] == 141 else 0\n",
    "            new_rows.append({\n",
    "                'Sex': sex, \n",
    "                'Team': team_assignments[index],  # Assign team from shuffled list\n",
    "                'Sport': sport,\n",
    "                'Event': event_id, \n",
    "                'Is_Host_Country': 0,\n",
    "                'Year': 2028\n",
    "            })\n",
    "            index += 1\n",
    "        # Increment event_start for next sport\n",
    "        event_start = event_id + 1\n",
    "\n",
    "# Step 4: Create a DataFrame from the new rows\n",
    "new_df = pd.DataFrame(new_rows)\n",
    "\n",
    "# Display the resulting 2028 dataset\n",
    "#print(new_df.head())\n",
    "\n",
    "proportion_counts = team_counts\n",
    "proportion_counts.index = encoders['Team'].inverse_transform(proportion_counts.index)\n",
    "print(proportion_counts)"
   ]
  },
  {
   "cell_type": "code",
   "execution_count": 59,
   "metadata": {},
   "outputs": [],
   "source": [
    "estimated_2028 = pd.concat([X_2024, new_df], ignore_index=True)\n",
    "\n",
    "scaled_2028 = sc.transform(estimated_2028)\n",
    "\n",
    "predicted_2028 = rf.predict(scaled_2028)\n",
    "predicted_2028 = np.round(predicted_2028)\n"
   ]
  },
  {
   "cell_type": "code",
   "execution_count": 61,
   "metadata": {},
   "outputs": [
    {
     "name": "stdout",
     "output_type": "stream",
     "text": [
      "   Sex  Team  City  Sport  Event  Is_Host_Country  Year  Predictions\n",
      "0    1     4  15.0     73    469                0  2024          4.0\n",
      "1    1     4  15.0     73    467                0  2024          4.0\n",
      "2    1     4  15.0     73    466                0  2024          4.0\n",
      "3    1     4  15.0     73    459                0  2024          4.0\n",
      "4    1     4  15.0     73    460                0  2024          4.0\n"
     ]
    }
   ],
   "source": [
    "estimated_2028['Predictions'] = predicted_2028\n",
    "print(estimated_2028.head())\n"
   ]
  },
  {
   "cell_type": "code",
   "execution_count": 63,
   "metadata": {},
   "outputs": [
    {
     "name": "stdout",
     "output_type": "stream",
     "text": [
      "2028 Olympic Medal Top 5 Countries\n",
      "            Team  Predictions\n",
      "0  United States        126.0\n",
      "1          China         91.0\n",
      "2  Great Britain         65.0\n",
      "3         France         64.0\n",
      "4      Australia         53.0\n",
      "975.0\n"
     ]
    }
   ],
   "source": [
    "# Create a DataFrame for predicted_2028\n",
    "predicted_2028_df = pd.DataFrame(estimated_2028, columns=['Team', 'Predictions'])\n",
    "\n",
    "# Group by 'Team' and sum the 'Predictions'\n",
    "predicted_df_sorted = predicted_2028_df.sort_values(by='Predictions', ascending=False)\n",
    "\n",
    "# Sort the leaderboard by 'Predictions' in descending order\n",
    "leaderboard_2028 = predicted_df_sorted.drop_duplicates(subset='Team', keep='first').reset_index(drop=True)\n",
    "\n",
    "leaderboard_2028['Team'] = encoders['Team'].inverse_transform(leaderboard_2028['Team'])\n",
    "# Display the leaderboard\n",
    "print(\"2028 Olympic Medal Top 5 Countries\")\n",
    "print(leaderboard_2028.head())\n",
    "print(leaderboard_2028[\"Predictions\"].sum())\n"
   ]
  },
  {
   "cell_type": "markdown",
   "metadata": {},
   "source": [
    "Now that we have our predicted top 5 countries from 2028 let's take a look at the top 5 countries from the recorded 2024 Paris Olympics"
   ]
  },
  {
   "cell_type": "code",
   "execution_count": 66,
   "metadata": {},
   "outputs": [
    {
     "name": "stdout",
     "output_type": "stream",
     "text": [
      "                 Team  Total  Rank\n",
      "200684  United States    126     1\n",
      "198637          China     91     2\n",
      "196064  Great Britain     65     3\n",
      "195864         France     64     4\n",
      "199588      Australia     53     5\n",
      "966\n"
     ]
    }
   ],
   "source": [
    "# Filter the dataframe for Year = 2024\n",
    "df_2024 = df_joined[df_joined['Year'] == 2024]\n",
    "\n",
    "# Drop duplicates for each team to get unique Total values\n",
    "leaderboard_2024 = df_2024[['Team', 'Total']].drop_duplicates()\n",
    "\n",
    "# Sort by Total in descending order\n",
    "leaderboard_2024 = leaderboard_2024.sort_values(by='Total', ascending=False)\n",
    "\n",
    "# Add a ranking column\n",
    "leaderboard_2024['Team'] = encoders['Team'].inverse_transform(leaderboard_2024['Team'])\n",
    "\n",
    "leaderboard_2024['Rank'] = range(1, len(leaderboard_2024) + 1)\n",
    "\n",
    "# Display the leaderboard\n",
    "print(leaderboard_2024.head())\n",
    "print(leaderboard_2024[\"Total\"].sum())\n"
   ]
  },
  {
   "cell_type": "markdown",
   "metadata": {},
   "source": [
    "The leaderboards are identical. Let's analyze if there are any difference between our predictions for 2028 and the medal totals for 2024"
   ]
  },
  {
   "cell_type": "code",
   "execution_count": 68,
   "metadata": {},
   "outputs": [
    {
     "name": "stdout",
     "output_type": "stream",
     "text": [
      "           Team  Total_2024  Rank  Total_2028  Difference\n",
      "17     Colombia           4    46         6.0         2.0\n",
      "37    Indonesia           3    53         5.0         2.0\n",
      "65  Saint Lucia           2    61         3.0         1.0\n",
      "41      Jamaica           6    37         7.0         1.0\n",
      "36        India           6    39         7.0         1.0\n"
     ]
    }
   ],
   "source": [
    "# Rename columns for clarity in each leaderboard\n",
    "leaderboard_2024 = leaderboard_2024.rename(columns={'Total': 'Total_2024'})\n",
    "leaderboard_2028 = leaderboard_2028.rename(columns={'Predictions': 'Total_2028'})\n",
    "\n",
    "# Merge the two leaderboards on 'Team'\n",
    "comparison = pd.merge(leaderboard_2024, leaderboard_2028, on='Team', how='outer')\n",
    "\n",
    "# Fill NaN values with 0 (in case a team is missing from one of the years)\n",
    "comparison.fillna(0, inplace=True)\n",
    "\n",
    "# Calculate the difference in Total\n",
    "comparison['Difference'] = comparison['Total_2028'] - comparison['Total_2024']\n",
    "\n",
    "# Sort by the absolute value of the difference\n",
    "comparison = comparison.sort_values(by='Difference', ascending=False, key=abs)\n",
    "\n",
    "\n",
    "#comparison['Team'] = encoders['Team'].inverse_transform(comparison['Team'])\n",
    "print(comparison.head())\n"
   ]
  },
  {
   "cell_type": "markdown",
   "metadata": {},
   "source": [
    "Indeed there are differences but it's miniscule. We only have two countries where the difference is +2. Our data for 2028 is likely wrong. Let's see if there's any country that would win their first medal in 2028."
   ]
  },
  {
   "cell_type": "code",
   "execution_count": 119,
   "metadata": {},
   "outputs": [
    {
     "name": "stdout",
     "output_type": "stream",
     "text": [
      "Empty DataFrame\n",
      "Columns: [Team, Total_2024, Total_2028, Difference]\n",
      "Index: []\n"
     ]
    }
   ],
   "source": [
    "# Filter for countries where 2024 total is 0 and 2028 total is greater than 0\n",
    "first_medal_countries = comparison[(comparison['Total_2024'] == 0) & (comparison['Total_2028'] > 0)]\n",
    "\n",
    "# Display the result\n",
    "print(first_medal_countries)\n"
   ]
  },
  {
   "cell_type": "code",
   "execution_count": 1230,
   "metadata": {},
   "outputs": [
    {
     "name": "stdout",
     "output_type": "stream",
     "text": [
      "         Name  Sex  Team  City  Sport  Event  Is_Host_Country  Year  \\\n",
      "151900  92490    1    52     2     56    624                1  1896   \n",
      "124556  80619    1    52     2     37    321                1  1896   \n",
      "124555  41422    1    52     2      8    119                1  1896   \n",
      "164205   2196    1   141     2      8    113                0  1896   \n",
      "120486  93814    1   141     2     56    608                0  1896   \n",
      "\n",
      "        Medal_Earned  \n",
      "151900             0  \n",
      "124556             1  \n",
      "124555             1  \n",
      "164205             1  \n",
      "120486             1  \n"
     ]
    }
   ],
   "source": [
    "df_sorted = df_joined.sort_values(by='Year', ascending=True)\n",
    "\n",
    "X = df_sorted.drop(['Medal', 'Rank', 'Gold', 'Silver', 'Bronze', 'Total'], axis=1)\n",
    "y = df_sorted['Total']\n",
    "\n",
    "print(X.head())"
   ]
  },
  {
   "cell_type": "code",
   "execution_count": 71,
   "metadata": {},
   "outputs": [
    {
     "name": "stdout",
     "output_type": "stream",
     "text": [
      "Average contestants before 2008: 6327.086956521739\n",
      "Average contestants after 2008: 12580.6\n"
     ]
    }
   ],
   "source": [
    "# Filter the data to include only rows where the year is before 2008\n",
    "X_train_before_2008 = X[X['Year'] < 2008]\n",
    "\n",
    "# Get the value counts for 'Year' in the filtered data\n",
    "year_counts = X_train_before_2008['Year'].value_counts()\n",
    "\n",
    "# Calculate the average value count\n",
    "average_value_count = year_counts.mean()\n",
    "\n",
    "print(f\"Average contestants before 2008: {average_value_count}\")\n",
    "\n",
    "X_after_2008 = X[X['Year'] >= 2008]\n",
    "\n",
    "year_counts_after_2008 = X_after_2008['Year'].value_counts()\n",
    "\n",
    "average_value_count_after_2008 = year_counts_after_2008.mean()\n",
    "\n",
    "print(f\"Average contestants after 2008: {average_value_count_after_2008}\")\n"
   ]
  },
  {
   "cell_type": "markdown",
   "metadata": {},
   "source": [
    "As suspected the distributions in the data is different as there are on average double the number of contests in the Olympics after 2008 compared to the average of before. This is what was causing such poor performance on the train-test split when using time-based split"
   ]
  },
  {
   "cell_type": "markdown",
   "metadata": {},
   "source": [
    "After reviewing our results we concluded that the 2028 data was too reliant on 2024 data. Thus there were hardly any differences in model predictions for 2028 compared to the recorded data from 2024. Instead we should have averaged 2016, 2020, 2024 Olympic games to construct the data for 2028 before making predictions similar to how we created the new data. "
   ]
  }
 ],
 "metadata": {
  "kernelspec": {
   "display_name": "test_env",
   "language": "python",
   "name": "python3"
  },
  "language_info": {
   "codemirror_mode": {
    "name": "ipython",
    "version": 3
   },
   "file_extension": ".py",
   "mimetype": "text/x-python",
   "name": "python",
   "nbconvert_exporter": "python",
   "pygments_lexer": "ipython3",
   "version": "3.9.19"
  }
 },
 "nbformat": 4,
 "nbformat_minor": 2
}
